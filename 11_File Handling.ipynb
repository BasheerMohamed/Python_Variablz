{
 "cells": [
  {
   "cell_type": "markdown",
   "id": "234e7214",
   "metadata": {},
   "source": [
    "## Create File"
   ]
  },
  {
   "cell_type": "code",
   "execution_count": 8,
   "id": "7c4f8d31",
   "metadata": {},
   "outputs": [
    {
     "data": {
      "text/plain": [
       "<_io.TextIOWrapper name='variablz.txt' mode='x' encoding='UTF-8'>"
      ]
     },
     "execution_count": 8,
     "metadata": {},
     "output_type": "execute_result"
    }
   ],
   "source": [
    "open('variablz.txt', mode='x')"
   ]
  },
  {
   "cell_type": "markdown",
   "id": "41ec11f3",
   "metadata": {},
   "source": [
    "## Write File"
   ]
  },
  {
   "cell_type": "code",
   "execution_count": 15,
   "id": "6ee1503e",
   "metadata": {},
   "outputs": [],
   "source": [
    "file = open('myText.txt', mode='w')\n"
   ]
  },
  {
   "cell_type": "code",
   "execution_count": 10,
   "id": "fc0b4ce9",
   "metadata": {},
   "outputs": [
    {
     "data": {
      "text/plain": [
       "20"
      ]
     },
     "execution_count": 10,
     "metadata": {},
     "output_type": "execute_result"
    }
   ],
   "source": [
    "file.write('I am learning C++')\n",
    "file.close()"
   ]
  },
  {
   "cell_type": "markdown",
   "id": "dc09c678",
   "metadata": {},
   "source": [
    "## Append"
   ]
  },
  {
   "cell_type": "code",
   "execution_count": 16,
   "id": "909ea750",
   "metadata": {},
   "outputs": [],
   "source": [
    "file = open('myText.txt', mode='a')"
   ]
  },
  {
   "cell_type": "code",
   "execution_count": 17,
   "id": "613c92d1",
   "metadata": {},
   "outputs": [],
   "source": [
    "file.write('\\nI am learning C++')\n",
    "file.close()"
   ]
  },
  {
   "cell_type": "markdown",
   "id": "3139ccd1",
   "metadata": {},
   "source": [
    "## Read"
   ]
  },
  {
   "cell_type": "code",
   "execution_count": 28,
   "id": "037cdb1a",
   "metadata": {},
   "outputs": [],
   "source": [
    "file = open('/home/aatomz_admin/Desktop/GLekshmi/Summa Testing.txt')"
   ]
  },
  {
   "cell_type": "code",
   "execution_count": 29,
   "id": "4551abd1",
   "metadata": {},
   "outputs": [],
   "source": [
    "contents = file.read()\n",
    "file.close()"
   ]
  },
  {
   "cell_type": "code",
   "execution_count": 30,
   "id": "99cc61ad",
   "metadata": {},
   "outputs": [
    {
     "name": "stdout",
     "output_type": "stream",
     "text": [
      "Summa Testing\n",
      "\n"
     ]
    }
   ],
   "source": [
    "print(contents)"
   ]
  },
  {
   "cell_type": "markdown",
   "id": "d3d88f67",
   "metadata": {},
   "source": [
    "## Delete"
   ]
  },
  {
   "cell_type": "code",
   "execution_count": 31,
   "id": "3370248e",
   "metadata": {},
   "outputs": [],
   "source": [
    "import os"
   ]
  },
  {
   "cell_type": "code",
   "execution_count": 33,
   "id": "f49a6d8a",
   "metadata": {},
   "outputs": [
    {
     "ename": "FileNotFoundError",
     "evalue": "[Errno 2] No such file or directory: '/home/aatomz_admin/Desktop/GLekshmi/Summa Testing.txt'",
     "output_type": "error",
     "traceback": [
      "\u001b[0;31m---------------------------------------------------------------------------\u001b[0m",
      "\u001b[0;31mFileNotFoundError\u001b[0m                         Traceback (most recent call last)",
      "Cell \u001b[0;32mIn[33], line 1\u001b[0m\n\u001b[0;32m----> 1\u001b[0m \u001b[43mos\u001b[49m\u001b[38;5;241;43m.\u001b[39;49m\u001b[43mremove\u001b[49m\u001b[43m(\u001b[49m\u001b[38;5;124;43m'\u001b[39;49m\u001b[38;5;124;43m/home/aatomz_admin/Desktop/GLekshmi/Summa Testing.txt\u001b[39;49m\u001b[38;5;124;43m'\u001b[39;49m\u001b[43m)\u001b[49m\n",
      "\u001b[0;31mFileNotFoundError\u001b[0m: [Errno 2] No such file or directory: '/home/aatomz_admin/Desktop/GLekshmi/Summa Testing.txt'"
     ]
    }
   ],
   "source": [
    "os.remove('/home/aatomz_admin/Desktop/GLekshmi/Summa Testing.txt')\n"
   ]
  },
  {
   "cell_type": "code",
   "execution_count": 35,
   "id": "140c3a84",
   "metadata": {},
   "outputs": [
    {
     "data": {
      "text/plain": [
       "True"
      ]
     },
     "execution_count": 35,
     "metadata": {},
     "output_type": "execute_result"
    }
   ],
   "source": [
    "os.path.exists('variablz.txt')"
   ]
  },
  {
   "cell_type": "code",
   "execution_count": null,
   "id": "60b2288e",
   "metadata": {},
   "outputs": [],
   "source": []
  }
 ],
 "metadata": {
  "kernelspec": {
   "display_name": "Python 3 (ipykernel)",
   "language": "python",
   "name": "python3"
  },
  "language_info": {
   "codemirror_mode": {
    "name": "ipython",
    "version": 3
   },
   "file_extension": ".py",
   "mimetype": "text/x-python",
   "name": "python",
   "nbconvert_exporter": "python",
   "pygments_lexer": "ipython3",
   "version": "3.10.9"
  }
 },
 "nbformat": 4,
 "nbformat_minor": 5
}
