{
 "cells": [
  {
   "cell_type": "code",
   "execution_count": 1,
   "id": "88ff224a",
   "metadata": {},
   "outputs": [
    {
     "data": {
      "text/plain": [
       "['Apple', 'Orange', 'Banana', 'Mango', 'Pappaya']"
      ]
     },
     "execution_count": 1,
     "metadata": {},
     "output_type": "execute_result"
    }
   ],
   "source": [
    "items = ['Apple', 'Orange', 'Banana', 'Mango', 'Pappaya']\n",
    "items"
   ]
  },
  {
   "cell_type": "code",
   "execution_count": 2,
   "id": "41d1b172",
   "metadata": {},
   "outputs": [
    {
     "data": {
      "text/plain": [
       "['Apple', 'Orange', 'Banana', 'Mango', 'Pappaya']"
      ]
     },
     "execution_count": 2,
     "metadata": {},
     "output_type": "execute_result"
    }
   ],
   "source": [
    "items"
   ]
  },
  {
   "cell_type": "markdown",
   "id": "1e19362c",
   "metadata": {},
   "source": [
    "## List[start, stop, step]"
   ]
  },
  {
   "cell_type": "code",
   "execution_count": 3,
   "id": "5006278f",
   "metadata": {},
   "outputs": [
    {
     "data": {
      "text/plain": [
       "['Apple', 'Orange', 'Banana', 'Mango', 'Pappaya']"
      ]
     },
     "execution_count": 3,
     "metadata": {},
     "output_type": "execute_result"
    }
   ],
   "source": [
    "items[:]"
   ]
  },
  {
   "cell_type": "code",
   "execution_count": 4,
   "id": "bece5f8f",
   "metadata": {},
   "outputs": [
    {
     "data": {
      "text/plain": [
       "['Apple', 'Orange', 'Banana', 'Mango', 'Pappaya']"
      ]
     },
     "execution_count": 4,
     "metadata": {},
     "output_type": "execute_result"
    }
   ],
   "source": [
    "items[::]"
   ]
  },
  {
   "cell_type": "markdown",
   "id": "738d7678",
   "metadata": {},
   "source": [
    "## Access from Beginning"
   ]
  },
  {
   "cell_type": "code",
   "execution_count": 6,
   "id": "2a5fcc5e",
   "metadata": {},
   "outputs": [
    {
     "data": {
      "text/plain": [
       "['Apple', 'Orange', 'Banana', 'Mango', 'Pappaya']"
      ]
     },
     "execution_count": 6,
     "metadata": {},
     "output_type": "execute_result"
    }
   ],
   "source": [
    "items[0:]"
   ]
  },
  {
   "cell_type": "code",
   "execution_count": 7,
   "id": "33907fc6",
   "metadata": {},
   "outputs": [
    {
     "data": {
      "text/plain": [
       "['Orange', 'Banana', 'Mango', 'Pappaya']"
      ]
     },
     "execution_count": 7,
     "metadata": {},
     "output_type": "execute_result"
    }
   ],
   "source": [
    "items[1:]"
   ]
  },
  {
   "cell_type": "code",
   "execution_count": 10,
   "id": "9c49f469",
   "metadata": {},
   "outputs": [
    {
     "data": {
      "text/plain": [
       "[]"
      ]
     },
     "execution_count": 10,
     "metadata": {},
     "output_type": "execute_result"
    }
   ],
   "source": [
    "items[5:]"
   ]
  },
  {
   "cell_type": "code",
   "execution_count": 12,
   "id": "b464c18d",
   "metadata": {},
   "outputs": [
    {
     "data": {
      "text/plain": [
       "['Pappaya']"
      ]
     },
     "execution_count": 12,
     "metadata": {},
     "output_type": "execute_result"
    }
   ],
   "source": [
    "items[4:]"
   ]
  },
  {
   "cell_type": "markdown",
   "id": "4389a055",
   "metadata": {},
   "source": [
    "## Negative Index"
   ]
  },
  {
   "cell_type": "code",
   "execution_count": 19,
   "id": "6268b8c6",
   "metadata": {},
   "outputs": [
    {
     "data": {
      "text/plain": [
       "['Orange', 'Banana', 'Mango', 'Pappaya']"
      ]
     },
     "execution_count": 19,
     "metadata": {},
     "output_type": "execute_result"
    }
   ],
   "source": [
    "items[1:]"
   ]
  },
  {
   "cell_type": "code",
   "execution_count": 21,
   "id": "a18fbc3d",
   "metadata": {},
   "outputs": [
    {
     "data": {
      "text/plain": [
       "['Mango', 'Pappaya']"
      ]
     },
     "execution_count": 21,
     "metadata": {},
     "output_type": "execute_result"
    }
   ],
   "source": [
    "items[-2:]"
   ]
  },
  {
   "cell_type": "code",
   "execution_count": null,
   "id": "2a376f52",
   "metadata": {},
   "outputs": [],
   "source": []
  },
  {
   "cell_type": "code",
   "execution_count": null,
   "id": "10d41001",
   "metadata": {},
   "outputs": [],
   "source": []
  },
  {
   "cell_type": "code",
   "execution_count": null,
   "id": "1009b633",
   "metadata": {},
   "outputs": [],
   "source": []
  },
  {
   "cell_type": "markdown",
   "id": "efb791b1",
   "metadata": {},
   "source": [
    "# Access From End"
   ]
  },
  {
   "cell_type": "code",
   "execution_count": 13,
   "id": "94ee0790",
   "metadata": {},
   "outputs": [
    {
     "data": {
      "text/plain": [
       "['Apple', 'Orange', 'Banana', 'Mango', 'Pappaya']"
      ]
     },
     "execution_count": 13,
     "metadata": {},
     "output_type": "execute_result"
    }
   ],
   "source": [
    "items[:10]"
   ]
  },
  {
   "cell_type": "code",
   "execution_count": 15,
   "id": "3efffa72",
   "metadata": {},
   "outputs": [
    {
     "data": {
      "text/plain": [
       "['Apple', 'Orange', 'Banana', 'Mango']"
      ]
     },
     "execution_count": 15,
     "metadata": {},
     "output_type": "execute_result"
    }
   ],
   "source": [
    "items[:4]"
   ]
  },
  {
   "cell_type": "code",
   "execution_count": 22,
   "id": "f67419cb",
   "metadata": {},
   "outputs": [
    {
     "data": {
      "text/plain": [
       "['Apple']"
      ]
     },
     "execution_count": 22,
     "metadata": {},
     "output_type": "execute_result"
    }
   ],
   "source": [
    "items[:-4]"
   ]
  },
  {
   "cell_type": "code",
   "execution_count": null,
   "id": "0de8b437",
   "metadata": {},
   "outputs": [],
   "source": []
  },
  {
   "cell_type": "markdown",
   "id": "447653a3",
   "metadata": {},
   "source": [
    "## Access items in the middle"
   ]
  },
  {
   "cell_type": "code",
   "execution_count": 18,
   "id": "5a08b01d",
   "metadata": {},
   "outputs": [
    {
     "data": {
      "text/plain": [
       "['Orange', 'Banana']"
      ]
     },
     "execution_count": 18,
     "metadata": {},
     "output_type": "execute_result"
    }
   ],
   "source": [
    "items[1:3]"
   ]
  },
  {
   "cell_type": "markdown",
   "id": "05e544fc",
   "metadata": {},
   "source": [
    "# Step"
   ]
  },
  {
   "cell_type": "code",
   "execution_count": 24,
   "id": "828e93f2",
   "metadata": {},
   "outputs": [
    {
     "data": {
      "text/plain": [
       "['Apple', 'Banana', 'Pappaya']"
      ]
     },
     "execution_count": 24,
     "metadata": {},
     "output_type": "execute_result"
    }
   ],
   "source": [
    "items[::2]"
   ]
  },
  {
   "cell_type": "markdown",
   "id": "f05ff3b6",
   "metadata": {},
   "source": [
    "## Reverse the given List"
   ]
  },
  {
   "cell_type": "code",
   "execution_count": 25,
   "id": "4bb1d6c2",
   "metadata": {},
   "outputs": [
    {
     "data": {
      "text/plain": [
       "['Apple', 'Orange', 'Banana', 'Mango', 'Pappaya']"
      ]
     },
     "execution_count": 25,
     "metadata": {},
     "output_type": "execute_result"
    }
   ],
   "source": [
    "items"
   ]
  },
  {
   "cell_type": "code",
   "execution_count": 26,
   "id": "1c25acdf",
   "metadata": {},
   "outputs": [
    {
     "data": {
      "text/plain": [
       "['Pappaya', 'Mango', 'Banana', 'Orange', 'Apple']"
      ]
     },
     "execution_count": 26,
     "metadata": {},
     "output_type": "execute_result"
    }
   ],
   "source": [
    "items[::-1]"
   ]
  },
  {
   "cell_type": "code",
   "execution_count": null,
   "id": "8e6c53f3",
   "metadata": {},
   "outputs": [],
   "source": []
  }
 ],
 "metadata": {
  "kernelspec": {
   "display_name": "Python 3 (ipykernel)",
   "language": "python",
   "name": "python3"
  },
  "language_info": {
   "codemirror_mode": {
    "name": "ipython",
    "version": 3
   },
   "file_extension": ".py",
   "mimetype": "text/x-python",
   "name": "python",
   "nbconvert_exporter": "python",
   "pygments_lexer": "ipython3",
   "version": "3.10.9"
  }
 },
 "nbformat": 4,
 "nbformat_minor": 5
}
