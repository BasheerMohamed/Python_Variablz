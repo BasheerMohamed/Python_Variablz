{
 "cells": [
  {
   "cell_type": "code",
   "execution_count": 1,
   "id": "cffddaf8",
   "metadata": {},
   "outputs": [
    {
     "data": {
      "text/plain": [
       "['ARR', 'Aniruth', 'Iayaraja', 'Deva']"
      ]
     },
     "execution_count": 1,
     "metadata": {},
     "output_type": "execute_result"
    }
   ],
   "source": [
    "music_directors = ['ARR', 'Aniruth', 'Iayaraja', 'Deva']\n",
    "music_directors"
   ]
  },
  {
   "cell_type": "code",
   "execution_count": 3,
   "id": "d38c3863",
   "metadata": {},
   "outputs": [
    {
     "data": {
      "text/plain": [
       "['Mr. ARR', 'Mr. Aniruth', 'Mr. Iayaraja', 'Mr. Deva']"
      ]
     },
     "execution_count": 3,
     "metadata": {},
     "output_type": "execute_result"
    }
   ],
   "source": [
    "new_list = []\n",
    "for music_director in music_directors:\n",
    "    new_list.append(f'Mr. {music_director}')\n",
    "    \n",
    "new_list"
   ]
  },
  {
   "cell_type": "code",
   "execution_count": 5,
   "id": "2656d398",
   "metadata": {},
   "outputs": [
    {
     "data": {
      "text/plain": [
       "['Mr. ARR', 'Mr. Aniruth', 'Mr. Iayaraja', 'Mr. Deva']"
      ]
     },
     "execution_count": 5,
     "metadata": {},
     "output_type": "execute_result"
    }
   ],
   "source": [
    "[f'Mr. {x}' for x in music_directors]"
   ]
  },
  {
   "cell_type": "code",
   "execution_count": null,
   "id": "b41a1d18",
   "metadata": {},
   "outputs": [],
   "source": []
  }
 ],
 "metadata": {
  "kernelspec": {
   "display_name": "Python 3 (ipykernel)",
   "language": "python",
   "name": "python3"
  },
  "language_info": {
   "codemirror_mode": {
    "name": "ipython",
    "version": 3
   },
   "file_extension": ".py",
   "mimetype": "text/x-python",
   "name": "python",
   "nbconvert_exporter": "python",
   "pygments_lexer": "ipython3",
   "version": "3.10.9"
  }
 },
 "nbformat": 4,
 "nbformat_minor": 5
}
