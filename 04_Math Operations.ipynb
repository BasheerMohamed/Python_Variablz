{
 "cells": [
  {
   "cell_type": "markdown",
   "id": "db79adb5",
   "metadata": {},
   "source": [
    "## Addition"
   ]
  },
  {
   "cell_type": "code",
   "execution_count": 1,
   "id": "09ef9ee5",
   "metadata": {},
   "outputs": [
    {
     "data": {
      "text/plain": [
       "117"
      ]
     },
     "execution_count": 1,
     "metadata": {},
     "output_type": "execute_result"
    }
   ],
   "source": [
    "52+ 65"
   ]
  },
  {
   "cell_type": "code",
   "execution_count": 2,
   "id": "56953f15",
   "metadata": {},
   "outputs": [],
   "source": [
    "x = 25\n",
    "y = 35"
   ]
  },
  {
   "cell_type": "code",
   "execution_count": 4,
   "id": "b16a2a84",
   "metadata": {},
   "outputs": [],
   "source": [
    "z = x + y"
   ]
  },
  {
   "cell_type": "code",
   "execution_count": 5,
   "id": "d43ce17f",
   "metadata": {},
   "outputs": [
    {
     "data": {
      "text/plain": [
       "60"
      ]
     },
     "execution_count": 5,
     "metadata": {},
     "output_type": "execute_result"
    }
   ],
   "source": [
    "z"
   ]
  },
  {
   "cell_type": "code",
   "execution_count": 6,
   "id": "a813e586",
   "metadata": {},
   "outputs": [
    {
     "data": {
      "text/plain": [
       "-10"
      ]
     },
     "execution_count": 6,
     "metadata": {},
     "output_type": "execute_result"
    }
   ],
   "source": [
    "sub = x - y\n",
    "sub"
   ]
  },
  {
   "cell_type": "code",
   "execution_count": 7,
   "id": "a89a2355",
   "metadata": {},
   "outputs": [],
   "source": [
    "mul = x * y"
   ]
  },
  {
   "cell_type": "code",
   "execution_count": 8,
   "id": "4ed7dda7",
   "metadata": {},
   "outputs": [
    {
     "data": {
      "text/plain": [
       "875"
      ]
     },
     "execution_count": 8,
     "metadata": {},
     "output_type": "execute_result"
    }
   ],
   "source": [
    "mul"
   ]
  },
  {
   "cell_type": "code",
   "execution_count": 9,
   "id": "cc5a471e",
   "metadata": {},
   "outputs": [
    {
     "data": {
      "text/plain": [
       "50"
      ]
     },
     "execution_count": 9,
     "metadata": {},
     "output_type": "execute_result"
    }
   ],
   "source": [
    "5 * 10"
   ]
  },
  {
   "cell_type": "code",
   "execution_count": 10,
   "id": "49e33acc",
   "metadata": {},
   "outputs": [
    {
     "data": {
      "text/plain": [
       "5.5"
      ]
     },
     "execution_count": 10,
     "metadata": {},
     "output_type": "execute_result"
    }
   ],
   "source": [
    "div = 11 / 2\n",
    "div"
   ]
  },
  {
   "cell_type": "code",
   "execution_count": 11,
   "id": "65a7572e",
   "metadata": {},
   "outputs": [
    {
     "data": {
      "text/plain": [
       "1"
      ]
     },
     "execution_count": 11,
     "metadata": {},
     "output_type": "execute_result"
    }
   ],
   "source": [
    "mod = 11 % 2\n",
    "mod"
   ]
  },
  {
   "cell_type": "code",
   "execution_count": 12,
   "id": "c51ce2fb",
   "metadata": {},
   "outputs": [
    {
     "data": {
      "text/plain": [
       "5"
      ]
     },
     "execution_count": 12,
     "metadata": {},
     "output_type": "execute_result"
    }
   ],
   "source": [
    "quotient = 11 // 2\n",
    "quotient"
   ]
  },
  {
   "cell_type": "code",
   "execution_count": 13,
   "id": "24a41f16",
   "metadata": {},
   "outputs": [
    {
     "data": {
      "text/plain": [
       "25"
      ]
     },
     "execution_count": 13,
     "metadata": {},
     "output_type": "execute_result"
    }
   ],
   "source": [
    "exponent = 5 ** 2\n",
    "exponent"
   ]
  },
  {
   "cell_type": "code",
   "execution_count": 14,
   "id": "f827574b",
   "metadata": {},
   "outputs": [
    {
     "data": {
      "text/plain": [
       "125"
      ]
     },
     "execution_count": 14,
     "metadata": {},
     "output_type": "execute_result"
    }
   ],
   "source": [
    "5 ** 3"
   ]
  },
  {
   "cell_type": "code",
   "execution_count": 17,
   "id": "04aacb8b",
   "metadata": {},
   "outputs": [
    {
     "data": {
      "text/plain": [
       "0"
      ]
     },
     "execution_count": 17,
     "metadata": {},
     "output_type": "execute_result"
    }
   ],
   "source": [
    "2 * ((1 +1) - 2 )* 5"
   ]
  },
  {
   "cell_type": "markdown",
   "id": "d89b062b",
   "metadata": {},
   "source": [
    "## Area of the Circle"
   ]
  },
  {
   "cell_type": "code",
   "execution_count": 19,
   "id": "a68ed4a5",
   "metadata": {},
   "outputs": [
    {
     "data": {
      "text/plain": [
       "314.0"
      ]
     },
     "execution_count": 19,
     "metadata": {},
     "output_type": "execute_result"
    }
   ],
   "source": [
    "pi = 3.14\n",
    "radius = 10\n",
    "\n",
    "area = pi * radius ** 2\n",
    "area"
   ]
  },
  {
   "cell_type": "markdown",
   "id": "34994a21",
   "metadata": {},
   "source": [
    "## Math Library"
   ]
  },
  {
   "cell_type": "code",
   "execution_count": 20,
   "id": "481e92da",
   "metadata": {},
   "outputs": [],
   "source": [
    "import math"
   ]
  },
  {
   "cell_type": "code",
   "execution_count": 23,
   "id": "58c70504",
   "metadata": {},
   "outputs": [
    {
     "data": {
      "text/plain": [
       "30414093201713378043612608166064768844377641568960512000000000000"
      ]
     },
     "execution_count": 23,
     "metadata": {},
     "output_type": "execute_result"
    }
   ],
   "source": [
    "math.factorial(50)"
   ]
  },
  {
   "cell_type": "markdown",
   "id": "f55b4234",
   "metadata": {},
   "source": [
    "## Find out the price of a land which composed of 65456 equal radius circle of radii 587 feets. Price of 1 square foot land is 13132 $"
   ]
  },
  {
   "cell_type": "code",
   "execution_count": 26,
   "id": "f644cb72",
   "metadata": {},
   "outputs": [
    {
     "data": {
      "text/plain": [
       "930006934376638.8"
      ]
     },
     "execution_count": 26,
     "metadata": {},
     "output_type": "execute_result"
    }
   ],
   "source": [
    "pi = 3.14\n",
    "radius = 587\n",
    "\n",
    "area = pi * radius ** 2\n",
    "total_area = area * 65456\n",
    "total_area\n",
    "\n",
    "price = 13132\n",
    "total_price = total_area * price\n",
    "total_price"
   ]
  },
  {
   "cell_type": "code",
   "execution_count": 27,
   "id": "74122944",
   "metadata": {},
   "outputs": [
    {
     "data": {
      "text/plain": [
       "930478647396564.5"
      ]
     },
     "execution_count": 27,
     "metadata": {},
     "output_type": "execute_result"
    }
   ],
   "source": [
    "pi = math.pi\n",
    "radius = 587\n",
    "\n",
    "area = pi * radius ** 2\n",
    "total_area = area * 65456\n",
    "total_area\n",
    "\n",
    "price = 13132\n",
    "total_price = total_area * price\n",
    "total_price"
   ]
  },
  {
   "cell_type": "code",
   "execution_count": 28,
   "id": "86b128dc",
   "metadata": {},
   "outputs": [
    {
     "data": {
      "text/plain": [
       "471713019925.75"
      ]
     },
     "execution_count": 28,
     "metadata": {},
     "output_type": "execute_result"
    }
   ],
   "source": [
    "930478647396564.5 - 930006934376638.8"
   ]
  },
  {
   "cell_type": "code",
   "execution_count": 29,
   "id": "1fcd8a08",
   "metadata": {},
   "outputs": [
    {
     "data": {
      "text/plain": [
       "3.141592653589793"
      ]
     },
     "execution_count": 29,
     "metadata": {},
     "output_type": "execute_result"
    }
   ],
   "source": [
    "math.pi"
   ]
  },
  {
   "cell_type": "markdown",
   "id": "355b98c3",
   "metadata": {},
   "source": [
    "## Trignometry Functions"
   ]
  },
  {
   "cell_type": "code",
   "execution_count": 30,
   "id": "dcfeacf6",
   "metadata": {},
   "outputs": [],
   "source": [
    "degree = 0"
   ]
  },
  {
   "cell_type": "code",
   "execution_count": 31,
   "id": "2b3d3cba",
   "metadata": {},
   "outputs": [
    {
     "data": {
      "text/plain": [
       "0.0"
      ]
     },
     "execution_count": 31,
     "metadata": {},
     "output_type": "execute_result"
    }
   ],
   "source": [
    "math.sin(degree)"
   ]
  },
  {
   "cell_type": "code",
   "execution_count": 32,
   "id": "c5534354",
   "metadata": {},
   "outputs": [],
   "source": [
    "degree = 30"
   ]
  },
  {
   "cell_type": "code",
   "execution_count": 35,
   "id": "c3565110",
   "metadata": {},
   "outputs": [
    {
     "data": {
      "text/plain": [
       "0.5235987755982988"
      ]
     },
     "execution_count": 35,
     "metadata": {},
     "output_type": "execute_result"
    }
   ],
   "source": [
    "radian = math.radians(degree)\n",
    "radian"
   ]
  },
  {
   "cell_type": "code",
   "execution_count": 36,
   "id": "d954a59a",
   "metadata": {},
   "outputs": [
    {
     "data": {
      "text/plain": [
       "0.49999999999999994"
      ]
     },
     "execution_count": 36,
     "metadata": {},
     "output_type": "execute_result"
    }
   ],
   "source": [
    "math.sin(radian)"
   ]
  },
  {
   "cell_type": "code",
   "execution_count": null,
   "id": "3a7c3566",
   "metadata": {},
   "outputs": [],
   "source": []
  }
 ],
 "metadata": {
  "kernelspec": {
   "display_name": "Python 3 (ipykernel)",
   "language": "python",
   "name": "python3"
  },
  "language_info": {
   "codemirror_mode": {
    "name": "ipython",
    "version": 3
   },
   "file_extension": ".py",
   "mimetype": "text/x-python",
   "name": "python",
   "nbconvert_exporter": "python",
   "pygments_lexer": "ipython3",
   "version": "3.10.9"
  }
 },
 "nbformat": 4,
 "nbformat_minor": 5
}
