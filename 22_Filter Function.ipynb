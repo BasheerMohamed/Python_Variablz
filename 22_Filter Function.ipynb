{
 "cells": [
  {
   "cell_type": "code",
   "execution_count": 1,
   "id": "9ad60635",
   "metadata": {},
   "outputs": [
    {
     "data": {
      "text/plain": [
       "range(1, 101)"
      ]
     },
     "execution_count": 1,
     "metadata": {},
     "output_type": "execute_result"
    }
   ],
   "source": [
    "nums = range(1, 101)\n",
    "nums"
   ]
  },
  {
   "cell_type": "code",
   "execution_count": 2,
   "id": "16688947",
   "metadata": {},
   "outputs": [],
   "source": [
    "def divisible(number):\n",
    "    \n",
    "    if number%2 == 0 and number%3 == 0:\n",
    "        return True\n",
    "    else:\n",
    "        return False"
   ]
  },
  {
   "cell_type": "code",
   "execution_count": 5,
   "id": "d8b14a6b",
   "metadata": {},
   "outputs": [
    {
     "data": {
      "text/plain": [
       "[6, 12, 18, 24, 30, 36, 42, 48, 54, 60, 66, 72, 78, 84, 90, 96]"
      ]
     },
     "execution_count": 5,
     "metadata": {},
     "output_type": "execute_result"
    }
   ],
   "source": [
    "list(filter(divisible, nums))"
   ]
  },
  {
   "cell_type": "code",
   "execution_count": 6,
   "id": "23b8eade",
   "metadata": {},
   "outputs": [],
   "source": [
    "def vowels(word):\n",
    "        \n",
    "    for char in word:\n",
    "        if char in 'aeiou':\n",
    "            return True\n",
    "    else:\n",
    "        return False\n",
    "    "
   ]
  },
  {
   "cell_type": "code",
   "execution_count": 8,
   "id": "53cca1e4",
   "metadata": {},
   "outputs": [
    {
     "data": {
      "text/plain": [
       "True"
      ]
     },
     "execution_count": 8,
     "metadata": {},
     "output_type": "execute_result"
    }
   ],
   "source": [
    "vowels('e')"
   ]
  },
  {
   "cell_type": "code",
   "execution_count": 9,
   "id": "a7aabb1e",
   "metadata": {},
   "outputs": [],
   "source": [
    "items = ['Honey', 'GYM', 'mechanical', 'dry', 'love']"
   ]
  },
  {
   "cell_type": "code",
   "execution_count": 10,
   "id": "826f9a40",
   "metadata": {},
   "outputs": [
    {
     "data": {
      "text/plain": [
       "['Honey', 'mechanical', 'love']"
      ]
     },
     "execution_count": 10,
     "metadata": {},
     "output_type": "execute_result"
    }
   ],
   "source": [
    "list(filter(vowels, items))"
   ]
  },
  {
   "cell_type": "code",
   "execution_count": null,
   "id": "e6a26ad6",
   "metadata": {},
   "outputs": [],
   "source": []
  }
 ],
 "metadata": {
  "kernelspec": {
   "display_name": "Python 3 (ipykernel)",
   "language": "python",
   "name": "python3"
  },
  "language_info": {
   "codemirror_mode": {
    "name": "ipython",
    "version": 3
   },
   "file_extension": ".py",
   "mimetype": "text/x-python",
   "name": "python",
   "nbconvert_exporter": "python",
   "pygments_lexer": "ipython3",
   "version": "3.10.9"
  }
 },
 "nbformat": 4,
 "nbformat_minor": 5
}
