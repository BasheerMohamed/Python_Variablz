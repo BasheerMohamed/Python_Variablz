{
 "cells": [
  {
   "cell_type": "code",
   "execution_count": 2,
   "id": "83301ae2",
   "metadata": {},
   "outputs": [],
   "source": [
    "import math"
   ]
  },
  {
   "cell_type": "code",
   "execution_count": 1,
   "id": "5bb77862",
   "metadata": {},
   "outputs": [],
   "source": [
    "def rectangle(length, breath):\n",
    "    \"\"\"\n",
    "    To calculate the Rectangle Area\n",
    "    \"\"\"\n",
    "    area = length * breath\n",
    "    return area"
   ]
  },
  {
   "cell_type": "code",
   "execution_count": 5,
   "id": "0eda5e45",
   "metadata": {},
   "outputs": [],
   "source": [
    "def circle(radius):\n",
    "    \"\"\"\n",
    "    To calculate the Circle Area\n",
    "    \"\"\"\n",
    "    return math.pi * radius ** 2"
   ]
  },
  {
   "cell_type": "code",
   "execution_count": 6,
   "id": "03a1fd5e",
   "metadata": {},
   "outputs": [],
   "source": [
    "def triangle(breath, height):\n",
    "    return breath * height/2"
   ]
  },
  {
   "cell_type": "code",
   "execution_count": 7,
   "id": "b0bbe96a",
   "metadata": {},
   "outputs": [],
   "source": [
    "my_value = 56.8769"
   ]
  },
  {
   "cell_type": "code",
   "execution_count": null,
   "id": "e6293c3a",
   "metadata": {},
   "outputs": [],
   "source": []
  }
 ],
 "metadata": {
  "kernelspec": {
   "display_name": "Python 3 (ipykernel)",
   "language": "python",
   "name": "python3"
  },
  "language_info": {
   "codemirror_mode": {
    "name": "ipython",
    "version": 3
   },
   "file_extension": ".py",
   "mimetype": "text/x-python",
   "name": "python",
   "nbconvert_exporter": "python",
   "pygments_lexer": "ipython3",
   "version": "3.10.9"
  }
 },
 "nbformat": 4,
 "nbformat_minor": 5
}
