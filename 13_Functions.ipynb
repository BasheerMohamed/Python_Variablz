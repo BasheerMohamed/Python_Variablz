{
 "cells": [
  {
   "cell_type": "code",
   "execution_count": 1,
   "id": "7cd765a1",
   "metadata": {},
   "outputs": [],
   "source": [
    "users = []"
   ]
  },
  {
   "cell_type": "code",
   "execution_count": 2,
   "id": "bbd39814",
   "metadata": {},
   "outputs": [],
   "source": [
    "def add_user():\n",
    "    username = input('Enter the Name: ')\n",
    "    phone = input('Enter the Phone No: ')\n",
    "    email = input('Enter the Mail ID: ')\n",
    "    \n",
    "    user = {\n",
    "        'username': username,\n",
    "        'phone': phone,\n",
    "        'email': email\n",
    "    }\n",
    "    \n",
    "    users.append(user)\n",
    "    \n",
    "def remove_user(name):\n",
    "    for item in users:\n",
    "        if item['username'] == name:\n",
    "            print('running')\n",
    "            users.remove(item)"
   ]
  },
  {
   "cell_type": "code",
   "execution_count": 3,
   "id": "ddee1b77",
   "metadata": {},
   "outputs": [],
   "source": []
  },
  {
   "cell_type": "code",
   "execution_count": null,
   "id": "4d7a89f8",
   "metadata": {},
   "outputs": [],
   "source": []
  },
  {
   "cell_type": "code",
   "execution_count": 6,
   "id": "ba876ffa",
   "metadata": {},
   "outputs": [
    {
     "name": "stdout",
     "output_type": "stream",
     "text": [
      "Enter the Name: karthi\n",
      "Enter the Phone No: 234456451\n",
      "Enter the Mail ID: karthi@gmail.com\n"
     ]
    }
   ],
   "source": [
    "add_user()"
   ]
  },
  {
   "cell_type": "code",
   "execution_count": 11,
   "id": "05399259",
   "metadata": {},
   "outputs": [
    {
     "data": {
      "text/plain": [
       "[{'username': 'parthi', 'phone': '4645645', 'email': 'parthi@gmail.com'}]"
      ]
     },
     "execution_count": 11,
     "metadata": {},
     "output_type": "execute_result"
    }
   ],
   "source": [
    "users"
   ]
  },
  {
   "cell_type": "code",
   "execution_count": 10,
   "id": "0e62a315",
   "metadata": {},
   "outputs": [
    {
     "name": "stdout",
     "output_type": "stream",
     "text": [
      "running\n"
     ]
    }
   ],
   "source": [
    "remove_user('karthi')"
   ]
  },
  {
   "cell_type": "markdown",
   "id": "98f173d0",
   "metadata": {},
   "source": [
    "## Calculation"
   ]
  },
  {
   "cell_type": "code",
   "execution_count": 12,
   "id": "f7459163",
   "metadata": {},
   "outputs": [
    {
     "data": {
      "text/plain": [
       "100000"
      ]
     },
     "execution_count": 12,
     "metadata": {},
     "output_type": "execute_result"
    }
   ],
   "source": [
    "length = 200\n",
    "breath = 500\n",
    "\n",
    "area = length * breath\n",
    "area"
   ]
  },
  {
   "cell_type": "code",
   "execution_count": 32,
   "id": "14317ef2",
   "metadata": {},
   "outputs": [],
   "source": [
    "def calc_rect_area(length, breath):\n",
    "\n",
    "    area = length * breath\n",
    "    return area"
   ]
  },
  {
   "cell_type": "code",
   "execution_count": 33,
   "id": "583a517f",
   "metadata": {},
   "outputs": [],
   "source": [
    "x = calc_rect_area(300, 500)"
   ]
  },
  {
   "cell_type": "code",
   "execution_count": 34,
   "id": "86535ec7",
   "metadata": {},
   "outputs": [],
   "source": [
    "import math"
   ]
  },
  {
   "cell_type": "code",
   "execution_count": 35,
   "id": "5d6d2c41",
   "metadata": {},
   "outputs": [],
   "source": [
    "def calc_scirc_area(radius):\n",
    "\n",
    "    area = (math.pi * radius ** 2)/2\n",
    "    return area"
   ]
  },
  {
   "cell_type": "code",
   "execution_count": 36,
   "id": "d638a11c",
   "metadata": {},
   "outputs": [],
   "source": [
    "y = calc_scirc_area(50)"
   ]
  },
  {
   "cell_type": "code",
   "execution_count": 37,
   "id": "291766ca",
   "metadata": {},
   "outputs": [
    {
     "data": {
      "text/plain": [
       "150000"
      ]
     },
     "execution_count": 37,
     "metadata": {},
     "output_type": "execute_result"
    }
   ],
   "source": [
    "x"
   ]
  },
  {
   "cell_type": "code",
   "execution_count": 38,
   "id": "4af858fc",
   "metadata": {},
   "outputs": [
    {
     "data": {
      "text/plain": [
       "3926.9908169872415"
      ]
     },
     "execution_count": 38,
     "metadata": {},
     "output_type": "execute_result"
    }
   ],
   "source": [
    "y"
   ]
  },
  {
   "cell_type": "code",
   "execution_count": 39,
   "id": "25939fda",
   "metadata": {},
   "outputs": [
    {
     "data": {
      "text/plain": [
       "153926.99081698724"
      ]
     },
     "execution_count": 39,
     "metadata": {},
     "output_type": "execute_result"
    }
   ],
   "source": [
    "x + y"
   ]
  },
  {
   "cell_type": "markdown",
   "id": "28b62803",
   "metadata": {},
   "source": [
    "## Default Parameter"
   ]
  },
  {
   "cell_type": "code",
   "execution_count": 51,
   "id": "b415bff7",
   "metadata": {},
   "outputs": [],
   "source": [
    "# Defining a Function\n",
    "def register_student(name, area, age=15, city='Cuddalore'):\n",
    "    \n",
    "    print(f'''\n",
    "    Student {name} of age: {age}\n",
    "    from {area} of {city} has been registered\n",
    "    ''')\n",
    "    "
   ]
  },
  {
   "cell_type": "code",
   "execution_count": 56,
   "id": "74d24fe5",
   "metadata": {},
   "outputs": [
    {
     "name": "stdout",
     "output_type": "stream",
     "text": [
      "\n",
      "    Student ravi of age: 15\n",
      "    from semmandalam of Pondicherry has been registered\n",
      "    \n"
     ]
    }
   ],
   "source": [
    "register_student('ravi', 'semmandalam', city='Pondicherry' )"
   ]
  },
  {
   "cell_type": "code",
   "execution_count": 47,
   "id": "0eea7dee",
   "metadata": {},
   "outputs": [
    {
     "name": "stdout",
     "output_type": "stream",
     "text": [
      "\n",
      "    Student ragul of age: 15\n",
      "    from Kondur of Cuddalore has been registered\n",
      "    \n"
     ]
    }
   ],
   "source": [
    "register_student('ragul', 'Kondur', 'Cuddalore')"
   ]
  },
  {
   "cell_type": "code",
   "execution_count": 48,
   "id": "1c4bdc27",
   "metadata": {},
   "outputs": [
    {
     "name": "stdout",
     "output_type": "stream",
     "text": [
      "\n",
      "    Student veera of age: 15\n",
      "    from Vella gate of Cuddalore has been registered\n",
      "    \n"
     ]
    }
   ],
   "source": [
    "register_student('veera', 'Vella gate', 'Cuddalore')"
   ]
  },
  {
   "cell_type": "code",
   "execution_count": 58,
   "id": "a59a1ce8",
   "metadata": {},
   "outputs": [
    {
     "name": "stdout",
     "output_type": "stream",
     "text": [
      "\n",
      "    Student parthi of age: 18\n",
      "    from kondur of Cuddalore has been registered\n",
      "    \n"
     ]
    }
   ],
   "source": [
    "# Calling a Function\n",
    "register_student('parthi',  'kondur',  age=18)"
   ]
  },
  {
   "cell_type": "markdown",
   "id": "7dea1eca",
   "metadata": {},
   "source": [
    "## Arbitrary Arguments"
   ]
  },
  {
   "cell_type": "markdown",
   "id": "43050744",
   "metadata": {},
   "source": [
    "## find the sum of given numbers "
   ]
  },
  {
   "cell_type": "code",
   "execution_count": 72,
   "id": "1fdbb180",
   "metadata": {},
   "outputs": [],
   "source": [
    "def total(*value):\n",
    "    print(sum(value))\n"
   ]
  },
  {
   "cell_type": "code",
   "execution_count": 73,
   "id": "5b655a44",
   "metadata": {},
   "outputs": [
    {
     "name": "stdout",
     "output_type": "stream",
     "text": [
      "95\n"
     ]
    }
   ],
   "source": [
    "total(1, 5, 89)"
   ]
  },
  {
   "cell_type": "code",
   "execution_count": null,
   "id": "aa97c782",
   "metadata": {},
   "outputs": [],
   "source": []
  },
  {
   "cell_type": "code",
   "execution_count": null,
   "id": "d8b0c14e",
   "metadata": {},
   "outputs": [],
   "source": []
  },
  {
   "cell_type": "code",
   "execution_count": 60,
   "id": "28e1a3af",
   "metadata": {},
   "outputs": [
    {
     "data": {
      "text/plain": [
       "30"
      ]
     },
     "execution_count": 60,
     "metadata": {},
     "output_type": "execute_result"
    }
   ],
   "source": [
    "total(10, 20)"
   ]
  },
  {
   "cell_type": "code",
   "execution_count": 61,
   "id": "87df242b",
   "metadata": {},
   "outputs": [
    {
     "ename": "TypeError",
     "evalue": "total() takes 2 positional arguments but 3 were given",
     "output_type": "error",
     "traceback": [
      "\u001b[0;31m---------------------------------------------------------------------------\u001b[0m",
      "\u001b[0;31mTypeError\u001b[0m                                 Traceback (most recent call last)",
      "Cell \u001b[0;32mIn[61], line 1\u001b[0m\n\u001b[0;32m----> 1\u001b[0m \u001b[43mtotal\u001b[49m\u001b[43m(\u001b[49m\u001b[38;5;241;43m10\u001b[39;49m\u001b[43m,\u001b[49m\u001b[43m \u001b[49m\u001b[38;5;241;43m20\u001b[39;49m\u001b[43m,\u001b[49m\u001b[43m \u001b[49m\u001b[38;5;241;43m30\u001b[39;49m\u001b[43m)\u001b[49m\n",
      "\u001b[0;31mTypeError\u001b[0m: total() takes 2 positional arguments but 3 were given"
     ]
    }
   ],
   "source": [
    "total(10, 20, 30)"
   ]
  },
  {
   "cell_type": "markdown",
   "id": "53b4a2a3",
   "metadata": {},
   "source": [
    "## 1. Using Function as an Object"
   ]
  },
  {
   "cell_type": "code",
   "execution_count": 74,
   "id": "cbd016e9",
   "metadata": {},
   "outputs": [],
   "source": [
    "def calc_rect_area(length, breath):\n",
    "\n",
    "    area = length * breath\n",
    "    return area"
   ]
  },
  {
   "cell_type": "code",
   "execution_count": 75,
   "id": "c09ea63c",
   "metadata": {},
   "outputs": [
    {
     "data": {
      "text/plain": [
       "200"
      ]
     },
     "execution_count": 75,
     "metadata": {},
     "output_type": "execute_result"
    }
   ],
   "source": [
    "calc_rect_area(20, 10)"
   ]
  },
  {
   "cell_type": "code",
   "execution_count": 76,
   "id": "9e46e03f",
   "metadata": {},
   "outputs": [],
   "source": [
    "Rect = calc_rect_area"
   ]
  },
  {
   "cell_type": "code",
   "execution_count": 77,
   "id": "79f641fe",
   "metadata": {},
   "outputs": [
    {
     "data": {
      "text/plain": [
       "function"
      ]
     },
     "execution_count": 77,
     "metadata": {},
     "output_type": "execute_result"
    }
   ],
   "source": [
    "type(Rect)"
   ]
  },
  {
   "cell_type": "code",
   "execution_count": 78,
   "id": "2676d7bb",
   "metadata": {},
   "outputs": [
    {
     "data": {
      "text/plain": [
       "200"
      ]
     },
     "execution_count": 78,
     "metadata": {},
     "output_type": "execute_result"
    }
   ],
   "source": [
    "Rect(10, 20)"
   ]
  },
  {
   "cell_type": "markdown",
   "id": "aeec4482",
   "metadata": {},
   "source": [
    "## Function as Argument"
   ]
  },
  {
   "cell_type": "code",
   "execution_count": 79,
   "id": "133514d7",
   "metadata": {},
   "outputs": [],
   "source": [
    "def gst(percent):\n",
    "    return percent/100"
   ]
  },
  {
   "cell_type": "code",
   "execution_count": 80,
   "id": "229a79d4",
   "metadata": {},
   "outputs": [
    {
     "data": {
      "text/plain": [
       "0.18"
      ]
     },
     "execution_count": 80,
     "metadata": {},
     "output_type": "execute_result"
    }
   ],
   "source": [
    "gst(18)"
   ]
  },
  {
   "cell_type": "code",
   "execution_count": 81,
   "id": "a94ba66f",
   "metadata": {},
   "outputs": [],
   "source": [
    "def total_price(price, percent, func):\n",
    "    \n",
    "    tax = price * func(percent)\n",
    "    total_price = price + tax\n",
    "    return total_price"
   ]
  },
  {
   "cell_type": "code",
   "execution_count": 82,
   "id": "5fa47585",
   "metadata": {},
   "outputs": [
    {
     "data": {
      "text/plain": [
       "2950.0"
      ]
     },
     "execution_count": 82,
     "metadata": {},
     "output_type": "execute_result"
    }
   ],
   "source": [
    "total_price(2500, 18, gst)"
   ]
  },
  {
   "cell_type": "code",
   "execution_count": 83,
   "id": "fcb40ba3",
   "metadata": {},
   "outputs": [],
   "source": [
    "def upper_case(paragraph):\n",
    "    return paragraph.upper()"
   ]
  },
  {
   "cell_type": "code",
   "execution_count": 84,
   "id": "b5db0a57",
   "metadata": {},
   "outputs": [],
   "source": [
    "def lower_case(paragraph):\n",
    "    return paragraph.lower()"
   ]
  },
  {
   "cell_type": "code",
   "execution_count": 85,
   "id": "9bde8c19",
   "metadata": {},
   "outputs": [],
   "source": [
    "def welcome(func, message):\n",
    "    return func(message)"
   ]
  },
  {
   "cell_type": "code",
   "execution_count": 86,
   "id": "342cabdf",
   "metadata": {},
   "outputs": [
    {
     "data": {
      "text/plain": [
       "'HELLO HOW ARE YOU?'"
      ]
     },
     "execution_count": 86,
     "metadata": {},
     "output_type": "execute_result"
    }
   ],
   "source": [
    "welcome(upper_case, 'Hello How Are You?')"
   ]
  },
  {
   "cell_type": "code",
   "execution_count": 87,
   "id": "1b62264b",
   "metadata": {},
   "outputs": [
    {
     "data": {
      "text/plain": [
       "'hello how are you?'"
      ]
     },
     "execution_count": 87,
     "metadata": {},
     "output_type": "execute_result"
    }
   ],
   "source": [
    "welcome(lower_case, 'Hello How Are You?')"
   ]
  },
  {
   "cell_type": "markdown",
   "id": "e5f7fa30",
   "metadata": {},
   "source": [
    "## Return a Function from Another Function"
   ]
  },
  {
   "cell_type": "code",
   "execution_count": 90,
   "id": "102ec947",
   "metadata": {},
   "outputs": [],
   "source": [
    "def multiplier(x):\n",
    "    \n",
    "    def multi(y):\n",
    "        return x*y\n",
    "    \n",
    "    return multi"
   ]
  },
  {
   "cell_type": "code",
   "execution_count": 92,
   "id": "e03fbe11",
   "metadata": {},
   "outputs": [],
   "source": [
    "m = multiplier(10)"
   ]
  },
  {
   "cell_type": "code",
   "execution_count": 93,
   "id": "7e1f8220",
   "metadata": {},
   "outputs": [
    {
     "data": {
      "text/plain": [
       "200"
      ]
     },
     "execution_count": 93,
     "metadata": {},
     "output_type": "execute_result"
    }
   ],
   "source": [
    "m(20)"
   ]
  },
  {
   "cell_type": "markdown",
   "id": "9d532b0e",
   "metadata": {},
   "source": [
    "## Decorators"
   ]
  },
  {
   "cell_type": "code",
   "execution_count": 106,
   "id": "a1267326",
   "metadata": {},
   "outputs": [
    {
     "name": "stdout",
     "output_type": "stream",
     "text": [
      "Enter the Value of A: 10.56\n",
      "Enter the Value of B: 5\n"
     ]
    }
   ],
   "source": [
    "a = input('Enter the Value of A: ')\n",
    "b = input('Enter the Value of B: ')"
   ]
  },
  {
   "cell_type": "code",
   "execution_count": 95,
   "id": "5bc6cf18",
   "metadata": {},
   "outputs": [
    {
     "data": {
      "text/plain": [
       "60"
      ]
     },
     "execution_count": 95,
     "metadata": {},
     "output_type": "execute_result"
    }
   ],
   "source": []
  },
  {
   "cell_type": "code",
   "execution_count": 109,
   "id": "6436ef1e",
   "metadata": {},
   "outputs": [],
   "source": [
    "def check_integer(*arg):\n",
    "    all_int = True\n",
    "\n",
    "    for num in arg:\n",
    "        for char in num:\n",
    "            if char not in '0123456789':\n",
    "                all_int=False\n",
    "                break\n",
    "\n",
    "\n",
    "    return all_int  "
   ]
  },
  {
   "cell_type": "code",
   "execution_count": 110,
   "id": "ebc5b517",
   "metadata": {},
   "outputs": [
    {
     "data": {
      "text/plain": [
       "False"
      ]
     },
     "execution_count": 110,
     "metadata": {},
     "output_type": "execute_result"
    }
   ],
   "source": [
    "check_integer(a, b)"
   ]
  },
  {
   "cell_type": "code",
   "execution_count": null,
   "id": "b89da26c",
   "metadata": {},
   "outputs": [],
   "source": []
  },
  {
   "cell_type": "code",
   "execution_count": null,
   "id": "115e1716",
   "metadata": {},
   "outputs": [],
   "source": []
  },
  {
   "cell_type": "code",
   "execution_count": 149,
   "id": "1d6241c0",
   "metadata": {},
   "outputs": [],
   "source": [
    "def input_validation(func):\n",
    "    \n",
    "    def check_integer(*args):\n",
    "        all_int = True\n",
    "\n",
    "        for num in args:\n",
    "            for char in num:\n",
    "                if char not in '0123456789':\n",
    "                    all_int=False\n",
    "                    break\n",
    "\n",
    "        if all_int == True:\n",
    "            ret = func(*args)\n",
    "        else:\n",
    "            ret = 'Please Check the Input'\n",
    "\n",
    "        return ret \n",
    "\n",
    "    return check_integer"
   ]
  },
  {
   "cell_type": "code",
   "execution_count": 150,
   "id": "04a11afa",
   "metadata": {},
   "outputs": [],
   "source": [
    "@input_validation\n",
    "def addition(a, b):\n",
    "    return int(a) + int(b)"
   ]
  },
  {
   "cell_type": "code",
   "execution_count": 153,
   "id": "0e102146",
   "metadata": {},
   "outputs": [
    {
     "name": "stdout",
     "output_type": "stream",
     "text": [
      "Enter the Value of A: 25.2\n",
      "Enter the Value of B: 20\n"
     ]
    }
   ],
   "source": [
    "a = input('Enter the Value of A: ')\n",
    "b = input('Enter the Value of B: ')"
   ]
  },
  {
   "cell_type": "code",
   "execution_count": 154,
   "id": "d101cb0a",
   "metadata": {},
   "outputs": [
    {
     "data": {
      "text/plain": [
       "'Please Check the Input'"
      ]
     },
     "execution_count": 154,
     "metadata": {},
     "output_type": "execute_result"
    }
   ],
   "source": [
    "addition(a, b)"
   ]
  },
  {
   "cell_type": "code",
   "execution_count": null,
   "id": "e7c18186",
   "metadata": {},
   "outputs": [],
   "source": []
  }
 ],
 "metadata": {
  "kernelspec": {
   "display_name": "Python 3 (ipykernel)",
   "language": "python",
   "name": "python3"
  },
  "language_info": {
   "codemirror_mode": {
    "name": "ipython",
    "version": 3
   },
   "file_extension": ".py",
   "mimetype": "text/x-python",
   "name": "python",
   "nbconvert_exporter": "python",
   "pygments_lexer": "ipython3",
   "version": "3.10.9"
  }
 },
 "nbformat": 4,
 "nbformat_minor": 5
}
