{
 "cells": [
  {
   "cell_type": "code",
   "execution_count": 1,
   "id": "1c1a24b9",
   "metadata": {},
   "outputs": [],
   "source": [
    "price = [45, 85, 69, 2, 2658]\n",
    "tax = 18"
   ]
  },
  {
   "cell_type": "code",
   "execution_count": 19,
   "id": "2cca725a",
   "metadata": {},
   "outputs": [],
   "source": [
    "def update_tax(price):\n",
    "    \n",
    "    tax = price * (18/100)\n",
    "    total = price + tax\n",
    "    \n",
    "    return total"
   ]
  },
  {
   "cell_type": "code",
   "execution_count": 20,
   "id": "e9e2c81d",
   "metadata": {},
   "outputs": [
    {
     "data": {
      "text/plain": [
       "59.0"
      ]
     },
     "execution_count": 20,
     "metadata": {},
     "output_type": "execute_result"
    }
   ],
   "source": [
    "update_tax(50)"
   ]
  },
  {
   "cell_type": "code",
   "execution_count": 21,
   "id": "e92fdae8",
   "metadata": {},
   "outputs": [
    {
     "data": {
      "text/plain": [
       "[53.1, 100.3, 81.42, 2.36, 3136.44]"
      ]
     },
     "execution_count": 21,
     "metadata": {},
     "output_type": "execute_result"
    }
   ],
   "source": [
    "list(map(update_tax, price))"
   ]
  },
  {
   "cell_type": "code",
   "execution_count": 22,
   "id": "0ba7f5b7",
   "metadata": {},
   "outputs": [],
   "source": [
    "gender = ['male', 'female', 'female', 'female', 'male']"
   ]
  },
  {
   "cell_type": "code",
   "execution_count": 23,
   "id": "27a5bd35",
   "metadata": {},
   "outputs": [],
   "source": [
    "def update_gender(gender):\n",
    "    if gender == 'male':\n",
    "        return 1\n",
    "    else:\n",
    "        return 0\n",
    "    "
   ]
  },
  {
   "cell_type": "code",
   "execution_count": 24,
   "id": "4f9a020a",
   "metadata": {},
   "outputs": [
    {
     "data": {
      "text/plain": [
       "[1, 0, 0, 0, 1]"
      ]
     },
     "execution_count": 24,
     "metadata": {},
     "output_type": "execute_result"
    }
   ],
   "source": [
    "list(map(update_gender, gender))"
   ]
  },
  {
   "cell_type": "code",
   "execution_count": null,
   "id": "6be681af",
   "metadata": {},
   "outputs": [],
   "source": []
  }
 ],
 "metadata": {
  "kernelspec": {
   "display_name": "Python 3 (ipykernel)",
   "language": "python",
   "name": "python3"
  },
  "language_info": {
   "codemirror_mode": {
    "name": "ipython",
    "version": 3
   },
   "file_extension": ".py",
   "mimetype": "text/x-python",
   "name": "python",
   "nbconvert_exporter": "python",
   "pygments_lexer": "ipython3",
   "version": "3.10.9"
  }
 },
 "nbformat": 4,
 "nbformat_minor": 5
}
