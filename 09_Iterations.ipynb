{
 "cells": [
  {
   "cell_type": "code",
   "execution_count": 1,
   "id": "da15b9f1",
   "metadata": {},
   "outputs": [],
   "source": [
    "music_directors = ['ARR', 'Aniruth', 'Yuvan', 'Deva']"
   ]
  },
  {
   "cell_type": "code",
   "execution_count": 4,
   "id": "469fb463",
   "metadata": {},
   "outputs": [
    {
     "name": "stdout",
     "output_type": "stream",
     "text": [
      "Mr. ARR\n",
      "Mr. Aniruth\n",
      "Mr. Yuvan\n",
      "Mr. Deva\n"
     ]
    }
   ],
   "source": [
    "print(f'Mr. {music_directors[0]}')\n",
    "print(f'Mr. {music_directors[1]}')\n",
    "print(f'Mr. {music_directors[2]}')\n",
    "print(f'Mr. {music_directors[3]}')\n"
   ]
  },
  {
   "cell_type": "code",
   "execution_count": 5,
   "id": "c07ae68f",
   "metadata": {},
   "outputs": [
    {
     "data": {
      "text/plain": [
       "[100, 988, 652, 85]"
      ]
     },
     "execution_count": 5,
     "metadata": {},
     "output_type": "execute_result"
    }
   ],
   "source": [
    "price = [100, 988, 652, 85]\n",
    "price"
   ]
  },
  {
   "cell_type": "markdown",
   "id": "f58311b3",
   "metadata": {},
   "source": [
    "## While Statements\n",
    "\n",
    "1. Initialize the Count\n",
    "2. Verify the Condition\n",
    "3. Do the Work\n",
    "4. Increment the Count"
   ]
  },
  {
   "cell_type": "code",
   "execution_count": null,
   "id": "67cf0832",
   "metadata": {},
   "outputs": [],
   "source": []
  },
  {
   "cell_type": "code",
   "execution_count": 7,
   "id": "ac78854b",
   "metadata": {},
   "outputs": [
    {
     "name": "stdout",
     "output_type": "stream",
     "text": [
      "1 Hi\n",
      "2 Hi\n",
      "3 Hi\n",
      "4 Hi\n",
      "5 Hi\n",
      "6 Hi\n",
      "7 Hi\n",
      "8 Hi\n",
      "9 Hi\n",
      "10 Hi\n"
     ]
    }
   ],
   "source": [
    "#initialize the count\n",
    "count = 1\n",
    "\n",
    "# Verify the conditon\n",
    "while count<=10:\n",
    "    \n",
    "    # Do the Work\n",
    "    print(f'{count} Hi')\n",
    "    \n",
    "    # Increment the Count\n",
    "    count = count + 1\n",
    "    \n",
    "    "
   ]
  },
  {
   "cell_type": "code",
   "execution_count": 8,
   "id": "0a5eba6e",
   "metadata": {},
   "outputs": [],
   "source": [
    "music_directors = ['ARR', 'Aniruth', 'Yuvan', 'Deva']"
   ]
  },
  {
   "cell_type": "code",
   "execution_count": 9,
   "id": "8f98825d",
   "metadata": {},
   "outputs": [
    {
     "name": "stdout",
     "output_type": "stream",
     "text": [
      "Mr. ARR\n"
     ]
    }
   ],
   "source": [
    "print(f'Mr. {music_directors[0]}')\n"
   ]
  },
  {
   "cell_type": "code",
   "execution_count": 12,
   "id": "86c514fe",
   "metadata": {},
   "outputs": [
    {
     "name": "stdout",
     "output_type": "stream",
     "text": [
      "Mr. ARR\n",
      "Mr. Aniruth\n",
      "Mr. Yuvan\n",
      "Mr. Deva\n"
     ]
    }
   ],
   "source": [
    "count = 0\n",
    "\n",
    "while count< 4:\n",
    "    \n",
    "    print(f'Mr. {music_directors[count]}')\n",
    "    \n",
    "    count = count + 1"
   ]
  },
  {
   "cell_type": "code",
   "execution_count": 13,
   "id": "da16dd37",
   "metadata": {},
   "outputs": [
    {
     "data": {
      "text/plain": [
       "[100, 988, 652, 85]"
      ]
     },
     "execution_count": 13,
     "metadata": {},
     "output_type": "execute_result"
    }
   ],
   "source": [
    "price = [100, 988, 652, 85]\n",
    "price"
   ]
  },
  {
   "cell_type": "code",
   "execution_count": 16,
   "id": "9548d323",
   "metadata": {},
   "outputs": [
    {
     "data": {
      "text/plain": [
       "4"
      ]
     },
     "execution_count": 16,
     "metadata": {},
     "output_type": "execute_result"
    }
   ],
   "source": [
    "len(price)"
   ]
  },
  {
   "cell_type": "code",
   "execution_count": 15,
   "id": "47b1c294",
   "metadata": {},
   "outputs": [
    {
     "data": {
      "text/plain": [
       "118.0"
      ]
     },
     "execution_count": 15,
     "metadata": {},
     "output_type": "execute_result"
    }
   ],
   "source": [
    "tax = price[0] * (18/100)\n",
    "total = price[0] + tax\n",
    "total"
   ]
  },
  {
   "cell_type": "code",
   "execution_count": 18,
   "id": "9326af48",
   "metadata": {},
   "outputs": [
    {
     "name": "stdout",
     "output_type": "stream",
     "text": [
      "118.0\n",
      "1165.84\n",
      "769.36\n",
      "100.3\n"
     ]
    }
   ],
   "source": [
    "count = 0\n",
    "\n",
    "while count < len(price):\n",
    "    \n",
    "    tax = price[count] * (18/100)\n",
    "    total = price[count] + tax\n",
    "    print(total)\n",
    "    \n",
    "    count += 1"
   ]
  },
  {
   "cell_type": "code",
   "execution_count": 1,
   "id": "e7296eb9",
   "metadata": {
    "scrolled": true
   },
   "outputs": [
    {
     "name": "stdout",
     "output_type": "stream",
     "text": [
      "1 Hi\n",
      "2 Hi\n",
      "3 Hi\n",
      "4 Hi\n",
      "5 Hi\n",
      "6 Hi\n",
      "7 Hi\n",
      "8 Hi\n",
      "9 Hi\n",
      "10 Hi\n"
     ]
    }
   ],
   "source": [
    "#initialize the count\n",
    "count = 1\n",
    "\n",
    "# Verify the conditon\n",
    "while count<=10:\n",
    "    \n",
    "    # Do the Work\n",
    "    print(f'{count} Hi')\n",
    "    \n",
    "    # Increment the Count\n",
    "    count = count + 1\n",
    "    \n",
    "    "
   ]
  },
  {
   "cell_type": "markdown",
   "id": "bd438f6b",
   "metadata": {},
   "source": [
    "## Break"
   ]
  },
  {
   "cell_type": "code",
   "execution_count": 2,
   "id": "870a9819",
   "metadata": {},
   "outputs": [],
   "source": [
    "fruits = ['Apple', 'Banana', 'Orange', 'Kiwi', 'Mango']"
   ]
  },
  {
   "cell_type": "code",
   "execution_count": 6,
   "id": "fac92674",
   "metadata": {},
   "outputs": [
    {
     "name": "stdout",
     "output_type": "stream",
     "text": [
      "Apple\n"
     ]
    }
   ],
   "source": [
    "count = 0\n",
    "\n",
    "while count<len(fruits):\n",
    "    \n",
    "    print(fruits[count])\n",
    "    \n",
    "    if fruits[count] == 'Orange':\n",
    "        print('Orage is available')\n",
    "        \n",
    "        break\n",
    "    \n",
    "    count = count + 1"
   ]
  },
  {
   "cell_type": "markdown",
   "id": "3b1af289",
   "metadata": {},
   "source": [
    "## Continue"
   ]
  },
  {
   "cell_type": "code",
   "execution_count": 2,
   "id": "a69c21f8",
   "metadata": {},
   "outputs": [],
   "source": [
    "music_directors = ['ARR', 'Aniruth', 'MS.Viswanathan', 'Yuvan', 'Deva']"
   ]
  },
  {
   "cell_type": "code",
   "execution_count": 3,
   "id": "ec2bb5e3",
   "metadata": {},
   "outputs": [
    {
     "data": {
      "text/plain": [
       "['ARR', 'Aniruth', 'MS.Viswanathan', 'Yuvan', 'Deva']"
      ]
     },
     "execution_count": 3,
     "metadata": {},
     "output_type": "execute_result"
    }
   ],
   "source": [
    "music_directors"
   ]
  },
  {
   "cell_type": "code",
   "execution_count": 5,
   "id": "d41f0893",
   "metadata": {},
   "outputs": [
    {
     "name": "stdout",
     "output_type": "stream",
     "text": [
      "Award goes to ARR\n",
      "Award goes to Aniruth\n",
      "Award goes to Yuvan\n",
      "Award goes to Deva\n"
     ]
    }
   ],
   "source": [
    "count = 0\n",
    "\n",
    "while count<len(music_directors):\n",
    "    \n",
    "    \n",
    "    \n",
    "    if music_directors[count] == 'MS.Viswanathan':\n",
    "        count = count + 1\n",
    "        continue\n",
    "        \n",
    "    print(f'Award goes to {music_directors[count]}')\n",
    "    \n",
    "    count = count + 1"
   ]
  },
  {
   "cell_type": "markdown",
   "id": "d38a43d1",
   "metadata": {},
   "source": [
    "## For Loop"
   ]
  },
  {
   "cell_type": "code",
   "execution_count": 6,
   "id": "a022a3e0",
   "metadata": {},
   "outputs": [
    {
     "data": {
      "text/plain": [
       "['ARR', 'Aniruth', 'MS.Viswanathan', 'Yuvan', 'Deva']"
      ]
     },
     "execution_count": 6,
     "metadata": {},
     "output_type": "execute_result"
    }
   ],
   "source": [
    "music_directors = ['ARR', 'Aniruth', 'MS.Viswanathan', 'Yuvan', 'Deva']\n",
    "music_directors"
   ]
  },
  {
   "cell_type": "code",
   "execution_count": 8,
   "id": "0ce1deae",
   "metadata": {},
   "outputs": [
    {
     "name": "stdout",
     "output_type": "stream",
     "text": [
      "Mr.ARR\n",
      "Mr.Aniruth\n",
      "Mr.MS.Viswanathan\n",
      "Mr.Yuvan\n",
      "Mr.Deva\n"
     ]
    }
   ],
   "source": [
    "for music_director in music_directors:\n",
    "    print(f'Mr.{music_director}')"
   ]
  },
  {
   "cell_type": "code",
   "execution_count": 9,
   "id": "406678ed",
   "metadata": {},
   "outputs": [
    {
     "data": {
      "text/plain": [
       "[100, 988, 652, 85]"
      ]
     },
     "execution_count": 9,
     "metadata": {},
     "output_type": "execute_result"
    }
   ],
   "source": [
    "prices = [100, 988, 652, 85]\n",
    "prices"
   ]
  },
  {
   "cell_type": "code",
   "execution_count": 16,
   "id": "8af1ac15",
   "metadata": {},
   "outputs": [
    {
     "data": {
      "text/plain": [
       "4"
      ]
     },
     "execution_count": 16,
     "metadata": {},
     "output_type": "execute_result"
    }
   ],
   "source": [
    "len(price)"
   ]
  },
  {
   "cell_type": "code",
   "execution_count": 15,
   "id": "87de0f05",
   "metadata": {},
   "outputs": [
    {
     "data": {
      "text/plain": [
       "118.0"
      ]
     },
     "execution_count": 15,
     "metadata": {},
     "output_type": "execute_result"
    }
   ],
   "source": [
    "tax = price[0] * (18/100)\n",
    "total = price[0] + tax\n",
    "total"
   ]
  },
  {
   "cell_type": "code",
   "execution_count": 11,
   "id": "b5fa74ab",
   "metadata": {},
   "outputs": [
    {
     "name": "stdout",
     "output_type": "stream",
     "text": [
      "118.0\n",
      "1165.84\n",
      "769.36\n",
      "100.3\n"
     ]
    }
   ],
   "source": [
    "for price in prices:\n",
    "    tax = price * (18/100)\n",
    "    total = price + tax\n",
    "    print(total)"
   ]
  },
  {
   "cell_type": "code",
   "execution_count": 12,
   "id": "9606ac6b",
   "metadata": {},
   "outputs": [],
   "source": [
    "fruits = ['Apple', 'Banana', 'Orange', 'Kiwi', 'Mango']"
   ]
  },
  {
   "cell_type": "code",
   "execution_count": 14,
   "id": "99c76988",
   "metadata": {},
   "outputs": [
    {
     "name": "stdout",
     "output_type": "stream",
     "text": [
      "Apple\n",
      "Banana\n",
      "Orange\n",
      "Kiwi\n",
      "Kiwi is Available\n"
     ]
    }
   ],
   "source": [
    "for fruit in fruits:\n",
    "    print(fruit)\n",
    "    \n",
    "    if fruit == 'Kiwi':\n",
    "        print('Kiwi is Available')\n",
    "        break"
   ]
  },
  {
   "cell_type": "code",
   "execution_count": 18,
   "id": "80ad355b",
   "metadata": {},
   "outputs": [
    {
     "name": "stdout",
     "output_type": "stream",
     "text": [
      "Award goes to ARR\n",
      "Award goes to Aniruth\n",
      "Award goes to Yuvan\n",
      "Award goes to Deva\n"
     ]
    }
   ],
   "source": [
    "for music_director in music_directors:\n",
    "   \n",
    "    if(music_director == 'MS.Viswanathan'):\n",
    "        continue\n",
    "        \n",
    "    print(f'Award goes to {music_director}')"
   ]
  },
  {
   "cell_type": "markdown",
   "id": "ed421dfe",
   "metadata": {},
   "source": [
    "## Range"
   ]
  },
  {
   "cell_type": "code",
   "execution_count": 19,
   "id": "b5556d58",
   "metadata": {},
   "outputs": [],
   "source": [
    " # Using Stop Number"
   ]
  },
  {
   "cell_type": "code",
   "execution_count": 20,
   "id": "8182c272",
   "metadata": {},
   "outputs": [
    {
     "data": {
      "text/plain": [
       "range(0, 101)"
      ]
     },
     "execution_count": 20,
     "metadata": {},
     "output_type": "execute_result"
    }
   ],
   "source": [
    "range(101)"
   ]
  },
  {
   "cell_type": "code",
   "execution_count": 22,
   "id": "8da38801",
   "metadata": {},
   "outputs": [],
   "source": [
    "# Using Start and Stop Number"
   ]
  },
  {
   "cell_type": "code",
   "execution_count": 23,
   "id": "9d7194c4",
   "metadata": {},
   "outputs": [
    {
     "data": {
      "text/plain": [
       "range(1, 11)"
      ]
     },
     "execution_count": 23,
     "metadata": {},
     "output_type": "execute_result"
    }
   ],
   "source": [
    "range(1, 11)"
   ]
  },
  {
   "cell_type": "code",
   "execution_count": 25,
   "id": "f383d066",
   "metadata": {},
   "outputs": [],
   "source": [
    "# Using Step number"
   ]
  },
  {
   "cell_type": "code",
   "execution_count": 27,
   "id": "d33ec8d4",
   "metadata": {},
   "outputs": [
    {
     "data": {
      "text/plain": [
       "[1,\n",
       " 3,\n",
       " 5,\n",
       " 7,\n",
       " 9,\n",
       " 11,\n",
       " 13,\n",
       " 15,\n",
       " 17,\n",
       " 19,\n",
       " 21,\n",
       " 23,\n",
       " 25,\n",
       " 27,\n",
       " 29,\n",
       " 31,\n",
       " 33,\n",
       " 35,\n",
       " 37,\n",
       " 39,\n",
       " 41,\n",
       " 43,\n",
       " 45,\n",
       " 47,\n",
       " 49,\n",
       " 51,\n",
       " 53,\n",
       " 55,\n",
       " 57,\n",
       " 59,\n",
       " 61,\n",
       " 63,\n",
       " 65,\n",
       " 67,\n",
       " 69,\n",
       " 71,\n",
       " 73,\n",
       " 75,\n",
       " 77,\n",
       " 79,\n",
       " 81,\n",
       " 83,\n",
       " 85,\n",
       " 87,\n",
       " 89,\n",
       " 91,\n",
       " 93,\n",
       " 95,\n",
       " 97,\n",
       " 99]"
      ]
     },
     "execution_count": 27,
     "metadata": {},
     "output_type": "execute_result"
    }
   ],
   "source": [
    "list(range(1, 101, 2))"
   ]
  },
  {
   "cell_type": "code",
   "execution_count": null,
   "id": "be95a37a",
   "metadata": {},
   "outputs": [],
   "source": []
  },
  {
   "cell_type": "code",
   "execution_count": 24,
   "id": "04bc5118",
   "metadata": {},
   "outputs": [
    {
     "data": {
      "text/plain": [
       "[1, 2, 3, 4, 5, 6, 7, 8, 9, 10]"
      ]
     },
     "execution_count": 24,
     "metadata": {},
     "output_type": "execute_result"
    }
   ],
   "source": [
    "list(range(1, 11))"
   ]
  },
  {
   "cell_type": "code",
   "execution_count": 29,
   "id": "7ac73dde",
   "metadata": {},
   "outputs": [
    {
     "name": "stdout",
     "output_type": "stream",
     "text": [
      "1\n",
      "2\n",
      "3\n",
      "4\n",
      "5\n",
      "6\n",
      "7\n",
      "8\n",
      "9\n",
      "10\n"
     ]
    }
   ],
   "source": [
    "for number in range(1, 11):\n",
    "    print(number)"
   ]
  },
  {
   "cell_type": "markdown",
   "id": "5bf677a7",
   "metadata": {},
   "source": [
    "## Nested Loops"
   ]
  },
  {
   "cell_type": "code",
   "execution_count": 30,
   "id": "c840492c",
   "metadata": {},
   "outputs": [],
   "source": [
    "vegs = ['Carrot', 'Onion', 'Potato', 'Tomato']\n",
    "fruits = ['Apple', 'Kiwi', 'Banana', 'Pappaya']\n",
    "snacks = ['Lays', 'Dairy Milk', 'Coca Cola']"
   ]
  },
  {
   "cell_type": "code",
   "execution_count": 31,
   "id": "4bdf2766",
   "metadata": {},
   "outputs": [],
   "source": [
    "shopping_cart = [vegs, fruits, snacks]"
   ]
  },
  {
   "cell_type": "code",
   "execution_count": 32,
   "id": "18db80dd",
   "metadata": {},
   "outputs": [
    {
     "data": {
      "text/plain": [
       "[['Carrot', 'Onion', 'Potato', 'Tomato'],\n",
       " ['Apple', 'Kiwi', 'Banana', 'Pappaya'],\n",
       " ['Lays', 'Dairy Milk', 'Coca Cola']]"
      ]
     },
     "execution_count": 32,
     "metadata": {},
     "output_type": "execute_result"
    }
   ],
   "source": [
    "shopping_cart"
   ]
  },
  {
   "cell_type": "code",
   "execution_count": 33,
   "id": "3af6359b",
   "metadata": {},
   "outputs": [
    {
     "name": "stdout",
     "output_type": "stream",
     "text": [
      "Apple\n",
      "Kiwi\n",
      "Banana\n",
      "Pappaya\n"
     ]
    }
   ],
   "source": [
    "for fruit in fruits:\n",
    "    print(fruit)"
   ]
  },
  {
   "cell_type": "code",
   "execution_count": 36,
   "id": "d1e3db98",
   "metadata": {},
   "outputs": [
    {
     "name": "stdout",
     "output_type": "stream",
     "text": [
      "Carrot\n",
      "Onion\n",
      "Potato\n",
      "Tomato\n",
      "Apple\n",
      "Kiwi\n",
      "Banana\n",
      "Pappaya\n",
      "Lays\n",
      "Dairy Milk\n",
      "Coca Cola\n"
     ]
    }
   ],
   "source": [
    "for cart in shopping_cart:\n",
    "    for item in cart:\n",
    "        print(item)"
   ]
  },
  {
   "cell_type": "markdown",
   "id": "3c40a817",
   "metadata": {},
   "source": [
    "## For...Else Function"
   ]
  },
  {
   "cell_type": "code",
   "execution_count": 1,
   "id": "26213496",
   "metadata": {},
   "outputs": [
    {
     "data": {
      "text/plain": [
       "['Tamil', 'English', 'Maths', 'Science', 'Social']"
      ]
     },
     "execution_count": 1,
     "metadata": {},
     "output_type": "execute_result"
    }
   ],
   "source": [
    "books = ['Tamil','English', 'Maths', 'Science', 'Social']\n",
    "books"
   ]
  },
  {
   "cell_type": "code",
   "execution_count": 2,
   "id": "150e8c27",
   "metadata": {},
   "outputs": [
    {
     "name": "stdout",
     "output_type": "stream",
     "text": [
      "Tamil\n",
      "English\n",
      "Maths\n",
      "Science\n",
      "Social\n"
     ]
    }
   ],
   "source": [
    "for book in books:\n",
    "    print(book)"
   ]
  },
  {
   "cell_type": "code",
   "execution_count": 3,
   "id": "db22df07",
   "metadata": {},
   "outputs": [
    {
     "name": "stdout",
     "output_type": "stream",
     "text": [
      "Maths Available\n"
     ]
    }
   ],
   "source": [
    "for book in books:\n",
    "    if book == 'Maths':\n",
    "        print('Maths Available')"
   ]
  },
  {
   "cell_type": "code",
   "execution_count": 5,
   "id": "d9e29802",
   "metadata": {},
   "outputs": [
    {
     "data": {
      "text/plain": [
       "['Tamil', 'English', 'Maths', 'Science', 'Social']"
      ]
     },
     "execution_count": 5,
     "metadata": {},
     "output_type": "execute_result"
    }
   ],
   "source": [
    "books = ['Tamil','English', 'Maths', 'Science', 'Social']\n",
    "books"
   ]
  },
  {
   "cell_type": "code",
   "execution_count": 9,
   "id": "e0799530",
   "metadata": {},
   "outputs": [
    {
     "name": "stdout",
     "output_type": "stream",
     "text": [
      "Maths Available\n"
     ]
    }
   ],
   "source": [
    "for book in books:\n",
    "    if book == 'Maths':\n",
    "        print('Maths Available')\n",
    "        break\n",
    "else:\n",
    "    print('Maths is Not Available')"
   ]
  },
  {
   "cell_type": "code",
   "execution_count": 10,
   "id": "4833bf48",
   "metadata": {},
   "outputs": [
    {
     "name": "stdout",
     "output_type": "stream",
     "text": [
      "Geography is Not Available\n"
     ]
    }
   ],
   "source": [
    "for book in books:\n",
    "    if book == 'Geography':\n",
    "        print('Geography Available')\n",
    "        break\n",
    "else:\n",
    "    print('Geography is Not Available')"
   ]
  },
  {
   "cell_type": "code",
   "execution_count": null,
   "id": "8130ead0",
   "metadata": {},
   "outputs": [],
   "source": []
  }
 ],
 "metadata": {
  "kernelspec": {
   "display_name": "Python 3 (ipykernel)",
   "language": "python",
   "name": "python3"
  },
  "language_info": {
   "codemirror_mode": {
    "name": "ipython",
    "version": 3
   },
   "file_extension": ".py",
   "mimetype": "text/x-python",
   "name": "python",
   "nbconvert_exporter": "python",
   "pygments_lexer": "ipython3",
   "version": "3.10.9"
  }
 },
 "nbformat": 4,
 "nbformat_minor": 5
}
