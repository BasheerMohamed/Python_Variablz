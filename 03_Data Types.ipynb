{
 "cells": [
  {
   "cell_type": "markdown",
   "id": "5723c019",
   "metadata": {},
   "source": [
    "# Data Types - String"
   ]
  },
  {
   "cell_type": "code",
   "execution_count": 1,
   "id": "75144e73",
   "metadata": {},
   "outputs": [],
   "source": [
    "# Using Single Quote"
   ]
  },
  {
   "cell_type": "code",
   "execution_count": 3,
   "id": "06c6d74b",
   "metadata": {},
   "outputs": [
    {
     "data": {
      "text/plain": [
       "'hi'"
      ]
     },
     "execution_count": 3,
     "metadata": {},
     "output_type": "execute_result"
    }
   ],
   "source": [
    "'hi'"
   ]
  },
  {
   "cell_type": "code",
   "execution_count": 4,
   "id": "3a80f76f",
   "metadata": {},
   "outputs": [
    {
     "data": {
      "text/plain": [
       "'a'"
      ]
     },
     "execution_count": 4,
     "metadata": {},
     "output_type": "execute_result"
    }
   ],
   "source": [
    "'a'"
   ]
  },
  {
   "cell_type": "code",
   "execution_count": 5,
   "id": "d5700c51",
   "metadata": {},
   "outputs": [
    {
     "data": {
      "text/plain": [
       "'apple'"
      ]
     },
     "execution_count": 5,
     "metadata": {},
     "output_type": "execute_result"
    }
   ],
   "source": [
    "'apple'"
   ]
  },
  {
   "cell_type": "code",
   "execution_count": 6,
   "id": "508c4c18",
   "metadata": {},
   "outputs": [
    {
     "data": {
      "text/plain": [
       "'I eat apple'"
      ]
     },
     "execution_count": 6,
     "metadata": {},
     "output_type": "execute_result"
    }
   ],
   "source": [
    "'I eat apple'"
   ]
  },
  {
   "cell_type": "code",
   "execution_count": 7,
   "id": "bf1a2da7",
   "metadata": {},
   "outputs": [
    {
     "name": "stdout",
     "output_type": "stream",
     "text": [
      "a\n"
     ]
    }
   ],
   "source": [
    "print('a')"
   ]
  },
  {
   "cell_type": "code",
   "execution_count": 8,
   "id": "db2920da",
   "metadata": {},
   "outputs": [
    {
     "name": "stdout",
     "output_type": "stream",
     "text": [
      "a\n",
      "apple\n",
      "I eat Apple\n"
     ]
    }
   ],
   "source": [
    "print('a')\n",
    "print('apple')\n",
    "print('I eat Apple')"
   ]
  },
  {
   "cell_type": "code",
   "execution_count": 9,
   "id": "a125d0cc",
   "metadata": {},
   "outputs": [],
   "source": [
    "word = 'Apple'"
   ]
  },
  {
   "cell_type": "code",
   "execution_count": 10,
   "id": "b1c08712",
   "metadata": {},
   "outputs": [
    {
     "data": {
      "text/plain": [
       "'Apple'"
      ]
     },
     "execution_count": 10,
     "metadata": {},
     "output_type": "execute_result"
    }
   ],
   "source": [
    "word"
   ]
  },
  {
   "cell_type": "code",
   "execution_count": 11,
   "id": "73e180cf",
   "metadata": {},
   "outputs": [
    {
     "name": "stdout",
     "output_type": "stream",
     "text": [
      "Apple\n"
     ]
    }
   ],
   "source": [
    "print(word)"
   ]
  },
  {
   "cell_type": "code",
   "execution_count": 12,
   "id": "bab30f93",
   "metadata": {},
   "outputs": [],
   "source": [
    "# Using Double Quotes"
   ]
  },
  {
   "cell_type": "code",
   "execution_count": 13,
   "id": "8ab856b1",
   "metadata": {},
   "outputs": [
    {
     "data": {
      "text/plain": [
       "'hi'"
      ]
     },
     "execution_count": 13,
     "metadata": {},
     "output_type": "execute_result"
    }
   ],
   "source": [
    "\"hi\""
   ]
  },
  {
   "cell_type": "code",
   "execution_count": 14,
   "id": "7be68546",
   "metadata": {},
   "outputs": [
    {
     "data": {
      "text/plain": [
       "' I am happy'"
      ]
     },
     "execution_count": 14,
     "metadata": {},
     "output_type": "execute_result"
    }
   ],
   "source": [
    "\" I am happy\""
   ]
  },
  {
   "cell_type": "code",
   "execution_count": 15,
   "id": "2ddfa6d8",
   "metadata": {},
   "outputs": [],
   "source": [
    "sentence = \"I am from Cuddalore\""
   ]
  },
  {
   "cell_type": "code",
   "execution_count": 16,
   "id": "3feb618e",
   "metadata": {},
   "outputs": [
    {
     "data": {
      "text/plain": [
       "'I am from Cuddalore'"
      ]
     },
     "execution_count": 16,
     "metadata": {},
     "output_type": "execute_result"
    }
   ],
   "source": [
    "sentence"
   ]
  },
  {
   "cell_type": "code",
   "execution_count": 17,
   "id": "f636546e",
   "metadata": {},
   "outputs": [
    {
     "name": "stdout",
     "output_type": "stream",
     "text": [
      "I am from Cuddalore\n"
     ]
    }
   ],
   "source": [
    "print(sentence)"
   ]
  },
  {
   "cell_type": "code",
   "execution_count": 21,
   "id": "2fddab54",
   "metadata": {},
   "outputs": [
    {
     "data": {
      "text/plain": [
       "\"I'd like to have this pen\""
      ]
     },
     "execution_count": 21,
     "metadata": {},
     "output_type": "execute_result"
    }
   ],
   "source": [
    "\"I'd like to have this pen\""
   ]
  },
  {
   "cell_type": "code",
   "execution_count": 22,
   "id": "8a008cfc",
   "metadata": {},
   "outputs": [
    {
     "data": {
      "text/plain": [
       "\"I'd like to have this pen\""
      ]
     },
     "execution_count": 22,
     "metadata": {},
     "output_type": "execute_result"
    }
   ],
   "source": [
    "'I\\'d like to have this pen'"
   ]
  },
  {
   "cell_type": "code",
   "execution_count": 24,
   "id": "4b2cc673",
   "metadata": {},
   "outputs": [
    {
     "name": "stdout",
     "output_type": "stream",
     "text": [
      "\n",
      "Hello I am Parthiban\n",
      "I am from Cuddalore\n",
      "\n",
      "I started learning python\n",
      "\n"
     ]
    }
   ],
   "source": [
    "print('''\n",
    "Hello I am Parthiban\n",
    "I am from Cuddalore\n",
    "\n",
    "I started learning python\n",
    "''')"
   ]
  },
  {
   "cell_type": "code",
   "execution_count": 25,
   "id": "a37c84c9",
   "metadata": {},
   "outputs": [
    {
     "name": "stdout",
     "output_type": "stream",
     "text": [
      "\n",
      "Hello I am Parthiban\n",
      "I am from Cuddalore\n",
      "\n",
      "I started learning python\n",
      "\n"
     ]
    }
   ],
   "source": [
    "print(\"\"\"\n",
    "Hello I am Parthiban\n",
    "I am from Cuddalore\n",
    "\n",
    "I started learning python\n",
    "\"\"\")"
   ]
  },
  {
   "cell_type": "markdown",
   "id": "f6b6a6c7",
   "metadata": {},
   "source": [
    "## Integers"
   ]
  },
  {
   "cell_type": "code",
   "execution_count": 26,
   "id": "0be9595a",
   "metadata": {},
   "outputs": [
    {
     "data": {
      "text/plain": [
       "8"
      ]
     },
     "execution_count": 26,
     "metadata": {},
     "output_type": "execute_result"
    }
   ],
   "source": [
    "8"
   ]
  },
  {
   "cell_type": "code",
   "execution_count": 27,
   "id": "f3e747b8",
   "metadata": {},
   "outputs": [
    {
     "data": {
      "text/plain": [
       "98"
      ]
     },
     "execution_count": 27,
     "metadata": {},
     "output_type": "execute_result"
    }
   ],
   "source": [
    "98"
   ]
  },
  {
   "cell_type": "code",
   "execution_count": 28,
   "id": "9e21f2a3",
   "metadata": {},
   "outputs": [
    {
     "name": "stdout",
     "output_type": "stream",
     "text": [
      "100\n"
     ]
    }
   ],
   "source": [
    "print(100)"
   ]
  },
  {
   "cell_type": "code",
   "execution_count": 29,
   "id": "6e760fb9",
   "metadata": {},
   "outputs": [],
   "source": [
    "num = 101"
   ]
  },
  {
   "cell_type": "code",
   "execution_count": 30,
   "id": "23351c96",
   "metadata": {},
   "outputs": [
    {
     "name": "stdout",
     "output_type": "stream",
     "text": [
      "101\n"
     ]
    }
   ],
   "source": [
    "print(num)"
   ]
  },
  {
   "cell_type": "code",
   "execution_count": 31,
   "id": "3b964f9c",
   "metadata": {},
   "outputs": [
    {
     "data": {
      "text/plain": [
       "8"
      ]
     },
     "execution_count": 31,
     "metadata": {},
     "output_type": "execute_result"
    }
   ],
   "source": [
    "8"
   ]
  },
  {
   "cell_type": "code",
   "execution_count": 32,
   "id": "19a226eb",
   "metadata": {},
   "outputs": [
    {
     "data": {
      "text/plain": [
       "'8'"
      ]
     },
     "execution_count": 32,
     "metadata": {},
     "output_type": "execute_result"
    }
   ],
   "source": [
    "'8'"
   ]
  },
  {
   "cell_type": "code",
   "execution_count": 33,
   "id": "2d43c075",
   "metadata": {},
   "outputs": [
    {
     "data": {
      "text/plain": [
       "int"
      ]
     },
     "execution_count": 33,
     "metadata": {},
     "output_type": "execute_result"
    }
   ],
   "source": [
    "type(8)"
   ]
  },
  {
   "cell_type": "code",
   "execution_count": 34,
   "id": "03642305",
   "metadata": {},
   "outputs": [
    {
     "data": {
      "text/plain": [
       "str"
      ]
     },
     "execution_count": 34,
     "metadata": {},
     "output_type": "execute_result"
    }
   ],
   "source": [
    "type('8')"
   ]
  },
  {
   "cell_type": "code",
   "execution_count": 35,
   "id": "227f7935",
   "metadata": {},
   "outputs": [],
   "source": [
    "number = 8"
   ]
  },
  {
   "cell_type": "code",
   "execution_count": 36,
   "id": "253f56d0",
   "metadata": {},
   "outputs": [
    {
     "data": {
      "text/plain": [
       "int"
      ]
     },
     "execution_count": 36,
     "metadata": {},
     "output_type": "execute_result"
    }
   ],
   "source": [
    "type(number)"
   ]
  },
  {
   "cell_type": "code",
   "execution_count": 37,
   "id": "a5e8db7e",
   "metadata": {},
   "outputs": [],
   "source": [
    "number = '8'"
   ]
  },
  {
   "cell_type": "code",
   "execution_count": 38,
   "id": "b211a6a1",
   "metadata": {},
   "outputs": [
    {
     "data": {
      "text/plain": [
       "str"
      ]
     },
     "execution_count": 38,
     "metadata": {},
     "output_type": "execute_result"
    }
   ],
   "source": [
    "type(number)"
   ]
  },
  {
   "cell_type": "code",
   "execution_count": 39,
   "id": "a328c6ee",
   "metadata": {},
   "outputs": [
    {
     "name": "stdout",
     "output_type": "stream",
     "text": [
      "Enter the Number 1: 1\n",
      "Enter the Number 2: 1\n"
     ]
    }
   ],
   "source": [
    "number1 = input('Enter the Number 1: ')\n",
    "number2 = input('Enter the Number 2: ')"
   ]
  },
  {
   "cell_type": "code",
   "execution_count": 41,
   "id": "cde1e3b1",
   "metadata": {},
   "outputs": [
    {
     "data": {
      "text/plain": [
       "'1'"
      ]
     },
     "execution_count": 41,
     "metadata": {},
     "output_type": "execute_result"
    }
   ],
   "source": [
    "number1"
   ]
  },
  {
   "cell_type": "code",
   "execution_count": 42,
   "id": "cd124864",
   "metadata": {},
   "outputs": [
    {
     "data": {
      "text/plain": [
       "str"
      ]
     },
     "execution_count": 42,
     "metadata": {},
     "output_type": "execute_result"
    }
   ],
   "source": [
    "type(number1)"
   ]
  },
  {
   "cell_type": "code",
   "execution_count": 43,
   "id": "09ae1291",
   "metadata": {},
   "outputs": [
    {
     "data": {
      "text/plain": [
       "str"
      ]
     },
     "execution_count": 43,
     "metadata": {},
     "output_type": "execute_result"
    }
   ],
   "source": [
    "type(number2)"
   ]
  },
  {
   "cell_type": "code",
   "execution_count": 44,
   "id": "7bf17eb2",
   "metadata": {},
   "outputs": [
    {
     "data": {
      "text/plain": [
       "1"
      ]
     },
     "execution_count": 44,
     "metadata": {},
     "output_type": "execute_result"
    }
   ],
   "source": [
    "1"
   ]
  },
  {
   "cell_type": "code",
   "execution_count": 45,
   "id": "4906609b",
   "metadata": {},
   "outputs": [
    {
     "data": {
      "text/plain": [
       "'1'"
      ]
     },
     "execution_count": 45,
     "metadata": {},
     "output_type": "execute_result"
    }
   ],
   "source": [
    "'1'"
   ]
  },
  {
   "cell_type": "code",
   "execution_count": 46,
   "id": "8490fdb4",
   "metadata": {},
   "outputs": [
    {
     "data": {
      "text/plain": [
       "5"
      ]
     },
     "execution_count": 46,
     "metadata": {},
     "output_type": "execute_result"
    }
   ],
   "source": [
    "int('5')"
   ]
  },
  {
   "cell_type": "code",
   "execution_count": 47,
   "id": "580c9610",
   "metadata": {},
   "outputs": [
    {
     "data": {
      "text/plain": [
       "5"
      ]
     },
     "execution_count": 47,
     "metadata": {},
     "output_type": "execute_result"
    }
   ],
   "source": [
    "x = int('5')\n",
    "x"
   ]
  },
  {
   "cell_type": "code",
   "execution_count": 48,
   "id": "9a281df6",
   "metadata": {},
   "outputs": [
    {
     "data": {
      "text/plain": [
       "int"
      ]
     },
     "execution_count": 48,
     "metadata": {},
     "output_type": "execute_result"
    }
   ],
   "source": [
    "type(x)"
   ]
  },
  {
   "cell_type": "code",
   "execution_count": 60,
   "id": "563f72cb",
   "metadata": {},
   "outputs": [
    {
     "name": "stdout",
     "output_type": "stream",
     "text": [
      "Enter the Number 1: 5\n",
      "Enter the Number 2: 10\n"
     ]
    }
   ],
   "source": [
    "number1 = input('Enter the Number 1: ')\n",
    "number2 = input('Enter the Number 2: ')"
   ]
  },
  {
   "cell_type": "code",
   "execution_count": 61,
   "id": "bc9dd9b0",
   "metadata": {},
   "outputs": [],
   "source": [
    "number1 = int(number1)\n",
    "number2 = int(number2)"
   ]
  },
  {
   "cell_type": "code",
   "execution_count": 63,
   "id": "e79f4453",
   "metadata": {},
   "outputs": [],
   "source": [
    "number1 = float(number1)\n",
    "number2 = float(number2)"
   ]
  },
  {
   "cell_type": "code",
   "execution_count": 64,
   "id": "c1efaac5",
   "metadata": {},
   "outputs": [
    {
     "data": {
      "text/plain": [
       "float"
      ]
     },
     "execution_count": 64,
     "metadata": {},
     "output_type": "execute_result"
    }
   ],
   "source": [
    "type(number1)"
   ]
  },
  {
   "cell_type": "code",
   "execution_count": 65,
   "id": "902fde66",
   "metadata": {},
   "outputs": [
    {
     "data": {
      "text/plain": [
       "15.0"
      ]
     },
     "execution_count": 65,
     "metadata": {},
     "output_type": "execute_result"
    }
   ],
   "source": [
    "number1 + number2"
   ]
  },
  {
   "cell_type": "code",
   "execution_count": 55,
   "id": "39a7743e",
   "metadata": {},
   "outputs": [
    {
     "data": {
      "text/plain": [
       "8.5"
      ]
     },
     "execution_count": 55,
     "metadata": {},
     "output_type": "execute_result"
    }
   ],
   "source": [
    "8.5"
   ]
  },
  {
   "cell_type": "code",
   "execution_count": 56,
   "id": "3527d841",
   "metadata": {},
   "outputs": [
    {
     "data": {
      "text/plain": [
       "float"
      ]
     },
     "execution_count": 56,
     "metadata": {},
     "output_type": "execute_result"
    }
   ],
   "source": [
    "type(8.5)"
   ]
  },
  {
   "cell_type": "code",
   "execution_count": 72,
   "id": "42693b1b",
   "metadata": {},
   "outputs": [],
   "source": [
    "x = 0.3\n",
    "y = 0.1"
   ]
  },
  {
   "cell_type": "code",
   "execution_count": 74,
   "id": "f118e08c",
   "metadata": {},
   "outputs": [
    {
     "data": {
      "text/plain": [
       "0.19999999999999998"
      ]
     },
     "execution_count": 74,
     "metadata": {},
     "output_type": "execute_result"
    }
   ],
   "source": [
    "z = x - y\n",
    "z"
   ]
  },
  {
   "cell_type": "code",
   "execution_count": 75,
   "id": "965e5a59",
   "metadata": {},
   "outputs": [
    {
     "data": {
      "text/plain": [
       "0.2"
      ]
     },
     "execution_count": 75,
     "metadata": {},
     "output_type": "execute_result"
    }
   ],
   "source": [
    "round(z, 3)"
   ]
  },
  {
   "cell_type": "code",
   "execution_count": 82,
   "id": "38813fe8",
   "metadata": {},
   "outputs": [],
   "source": [
    "n = 8.14591546541"
   ]
  },
  {
   "cell_type": "code",
   "execution_count": 83,
   "id": "20e3e4e4",
   "metadata": {},
   "outputs": [
    {
     "data": {
      "text/plain": [
       "8.146"
      ]
     },
     "execution_count": 83,
     "metadata": {},
     "output_type": "execute_result"
    }
   ],
   "source": [
    "round(n, 3)"
   ]
  },
  {
   "cell_type": "markdown",
   "id": "9464db14",
   "metadata": {},
   "source": [
    "## Combinations of String with numbers"
   ]
  },
  {
   "cell_type": "code",
   "execution_count": 90,
   "id": "75bd9fe0",
   "metadata": {},
   "outputs": [],
   "source": [
    "apples = 80"
   ]
  },
  {
   "cell_type": "code",
   "execution_count": 92,
   "id": "27bba522",
   "metadata": {},
   "outputs": [
    {
     "name": "stdout",
     "output_type": "stream",
     "text": [
      "I bought 90 apples\n"
     ]
    }
   ],
   "source": [
    "print(f'I bought {apples + 10 } apples')"
   ]
  },
  {
   "cell_type": "code",
   "execution_count": 93,
   "id": "414dbd62",
   "metadata": {},
   "outputs": [
    {
     "data": {
      "text/plain": [
       "True"
      ]
     },
     "execution_count": 93,
     "metadata": {},
     "output_type": "execute_result"
    }
   ],
   "source": [
    "True"
   ]
  },
  {
   "cell_type": "code",
   "execution_count": 94,
   "id": "24e8ce5d",
   "metadata": {},
   "outputs": [
    {
     "data": {
      "text/plain": [
       "bool"
      ]
     },
     "execution_count": 94,
     "metadata": {},
     "output_type": "execute_result"
    }
   ],
   "source": [
    "type(True)"
   ]
  },
  {
   "cell_type": "code",
   "execution_count": null,
   "id": "ed14adf1",
   "metadata": {},
   "outputs": [],
   "source": []
  }
 ],
 "metadata": {
  "kernelspec": {
   "display_name": "Python 3 (ipykernel)",
   "language": "python",
   "name": "python3"
  },
  "language_info": {
   "codemirror_mode": {
    "name": "ipython",
    "version": 3
   },
   "file_extension": ".py",
   "mimetype": "text/x-python",
   "name": "python",
   "nbconvert_exporter": "python",
   "pygments_lexer": "ipython3",
   "version": "3.10.9"
  }
 },
 "nbformat": 4,
 "nbformat_minor": 5
}
