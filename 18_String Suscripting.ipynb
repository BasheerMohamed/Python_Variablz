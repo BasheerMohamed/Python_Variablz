{
 "cells": [
  {
   "cell_type": "code",
   "execution_count": 1,
   "id": "4e26d2d4",
   "metadata": {},
   "outputs": [],
   "source": [
    "about = 'I dont care at all, I am lost!'"
   ]
  },
  {
   "cell_type": "code",
   "execution_count": 2,
   "id": "7831e75a",
   "metadata": {},
   "outputs": [
    {
     "data": {
      "text/plain": [
       "'I dont care at all, I am lost!'"
      ]
     },
     "execution_count": 2,
     "metadata": {},
     "output_type": "execute_result"
    }
   ],
   "source": [
    "about"
   ]
  },
  {
   "cell_type": "code",
   "execution_count": 3,
   "id": "1f153e71",
   "metadata": {},
   "outputs": [
    {
     "data": {
      "text/plain": [
       "'I dont care at all, I am lost!'"
      ]
     },
     "execution_count": 3,
     "metadata": {},
     "output_type": "execute_result"
    }
   ],
   "source": [
    "about[:]"
   ]
  },
  {
   "cell_type": "code",
   "execution_count": 4,
   "id": "21d1bff7",
   "metadata": {},
   "outputs": [
    {
     "data": {
      "text/plain": [
       "'I dont care at all, I am lost!'"
      ]
     },
     "execution_count": 4,
     "metadata": {},
     "output_type": "execute_result"
    }
   ],
   "source": [
    "about[::]"
   ]
  },
  {
   "cell_type": "code",
   "execution_count": 5,
   "id": "686787f6",
   "metadata": {},
   "outputs": [
    {
     "data": {
      "text/plain": [
       "'t care at all, I am lost!'"
      ]
     },
     "execution_count": 5,
     "metadata": {},
     "output_type": "execute_result"
    }
   ],
   "source": [
    "about[5:]"
   ]
  },
  {
   "cell_type": "code",
   "execution_count": 8,
   "id": "513802bd",
   "metadata": {},
   "outputs": [
    {
     "data": {
      "text/plain": [
       "'I dont'"
      ]
     },
     "execution_count": 8,
     "metadata": {},
     "output_type": "execute_result"
    }
   ],
   "source": [
    "about[:6]"
   ]
  },
  {
   "cell_type": "code",
   "execution_count": 10,
   "id": "3d171ada",
   "metadata": {},
   "outputs": [
    {
     "data": {
      "text/plain": [
       "'care'"
      ]
     },
     "execution_count": 10,
     "metadata": {},
     "output_type": "execute_result"
    }
   ],
   "source": [
    "about[7: 11]"
   ]
  },
  {
   "cell_type": "code",
   "execution_count": 11,
   "id": "0d2949d4",
   "metadata": {},
   "outputs": [
    {
     "data": {
      "text/plain": [
       "'!tsol ma I ,lla ta erac tnod I'"
      ]
     },
     "execution_count": 11,
     "metadata": {},
     "output_type": "execute_result"
    }
   ],
   "source": [
    "about[::-1]"
   ]
  },
  {
   "cell_type": "code",
   "execution_count": null,
   "id": "71780763",
   "metadata": {},
   "outputs": [],
   "source": []
  },
  {
   "cell_type": "code",
   "execution_count": null,
   "id": "172828e7",
   "metadata": {},
   "outputs": [],
   "source": []
  }
 ],
 "metadata": {
  "kernelspec": {
   "display_name": "Python 3 (ipykernel)",
   "language": "python",
   "name": "python3"
  },
  "language_info": {
   "codemirror_mode": {
    "name": "ipython",
    "version": 3
   },
   "file_extension": ".py",
   "mimetype": "text/x-python",
   "name": "python",
   "nbconvert_exporter": "python",
   "pygments_lexer": "ipython3",
   "version": "3.10.9"
  }
 },
 "nbformat": 4,
 "nbformat_minor": 5
}
