{
 "cells": [
  {
   "cell_type": "code",
   "execution_count": 1,
   "id": "f05089cb",
   "metadata": {},
   "outputs": [
    {
     "ename": "NameError",
     "evalue": "name 'age' is not defined",
     "output_type": "error",
     "traceback": [
      "\u001b[0;31m---------------------------------------------------------------------------\u001b[0m",
      "\u001b[0;31mNameError\u001b[0m                                 Traceback (most recent call last)",
      "Cell \u001b[0;32mIn[1], line 1\u001b[0m\n\u001b[0;32m----> 1\u001b[0m \u001b[38;5;28;01mif\u001b[39;00m \u001b[43mage\u001b[49m \u001b[38;5;241m>\u001b[39m\u001b[38;5;241m=\u001b[39m \u001b[38;5;241m18\u001b[39m:\n\u001b[1;32m      2\u001b[0m     \u001b[38;5;28mprint\u001b[39m(\u001b[38;5;124m'\u001b[39m\u001b[38;5;124mAdult\u001b[39m\u001b[38;5;124m'\u001b[39m)\n",
      "\u001b[0;31mNameError\u001b[0m: name 'age' is not defined"
     ]
    }
   ],
   "source": [
    "if age >= 18:\n",
    "    print('Adult')"
   ]
  },
  {
   "cell_type": "markdown",
   "id": "e388cdd0",
   "metadata": {},
   "source": [
    "## Try... Except"
   ]
  },
  {
   "cell_type": "code",
   "execution_count": 8,
   "id": "2fcc5d14",
   "metadata": {},
   "outputs": [
    {
     "name": "stdout",
     "output_type": "stream",
     "text": [
      "Enter Your Age: 20\n",
      "Type Error Occured\n"
     ]
    }
   ],
   "source": [
    "age = input('Enter Your Age: ')\n",
    "try:\n",
    "    if age >= 18:\n",
    "        print('Adult')\n",
    "except NameError:\n",
    "    print('Name Error Occured')\n",
    "except TypeError:\n",
    "    print('Type Error Occured')\n",
    "except:\n",
    "    print('Error Occured')"
   ]
  },
  {
   "cell_type": "code",
   "execution_count": 10,
   "id": "604b34d8",
   "metadata": {},
   "outputs": [
    {
     "name": "stdout",
     "output_type": "stream",
     "text": [
      "Enter Your Age: 20\n",
      "\n",
      "    Error Occured:\n",
      "    '>=' not supported between instances of 'str' and 'int'\n",
      "    \n"
     ]
    }
   ],
   "source": [
    "age = input('Enter Your Age: ')\n",
    "try:\n",
    "    if age >= 18:\n",
    "        print('Adult')\n",
    "except Exception as ex:\n",
    "    print(f'''\n",
    "    Error Occured:\n",
    "    {ex}\n",
    "    ''')"
   ]
  },
  {
   "cell_type": "code",
   "execution_count": null,
   "id": "4ef6b502",
   "metadata": {},
   "outputs": [],
   "source": []
  }
 ],
 "metadata": {
  "kernelspec": {
   "display_name": "Python 3 (ipykernel)",
   "language": "python",
   "name": "python3"
  },
  "language_info": {
   "codemirror_mode": {
    "name": "ipython",
    "version": 3
   },
   "file_extension": ".py",
   "mimetype": "text/x-python",
   "name": "python",
   "nbconvert_exporter": "python",
   "pygments_lexer": "ipython3",
   "version": "3.10.9"
  }
 },
 "nbformat": 4,
 "nbformat_minor": 5
}
