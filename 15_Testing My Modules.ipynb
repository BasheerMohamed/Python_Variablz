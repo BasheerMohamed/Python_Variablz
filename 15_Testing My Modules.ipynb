{
 "cells": [
  {
   "cell_type": "code",
   "execution_count": null,
   "id": "dab96c7b",
   "metadata": {},
   "outputs": [],
   "source": [
    "import math"
   ]
  },
  {
   "cell_type": "code",
   "execution_count": null,
   "id": "e1f71204",
   "metadata": {},
   "outputs": [],
   "source": [
    "import sys"
   ]
  },
  {
   "cell_type": "code",
   "execution_count": null,
   "id": "7cdc258e",
   "metadata": {},
   "outputs": [],
   "source": [
    "sys.path"
   ]
  },
  {
   "cell_type": "code",
   "execution_count": null,
   "id": "63bd5950",
   "metadata": {},
   "outputs": [],
   "source": [
    "!conda develop '/home/aatomz_admin/Documents/mylibs/'"
   ]
  },
  {
   "cell_type": "code",
   "execution_count": null,
   "id": "17c9c7b6",
   "metadata": {},
   "outputs": [],
   "source": [
    "import area_calculator"
   ]
  },
  {
   "cell_type": "code",
   "execution_count": null,
   "id": "a5583b13",
   "metadata": {},
   "outputs": [],
   "source": [
    "area_calculator.my_value"
   ]
  },
  {
   "cell_type": "code",
   "execution_count": null,
   "id": "3c7b0fd8",
   "metadata": {},
   "outputs": [],
   "source": [
    "help(area_calculator)"
   ]
  },
  {
   "cell_type": "code",
   "execution_count": null,
   "id": "18e822b5",
   "metadata": {},
   "outputs": [],
   "source": [
    "area_calculator.rectangle(50, 80)"
   ]
  },
  {
   "cell_type": "code",
   "execution_count": null,
   "id": "6ca12923",
   "metadata": {},
   "outputs": [],
   "source": [
    "import area_calculator as ac"
   ]
  },
  {
   "cell_type": "code",
   "execution_count": null,
   "id": "06c574e4",
   "metadata": {},
   "outputs": [],
   "source": [
    "ac.circle(20)"
   ]
  },
  {
   "cell_type": "code",
   "execution_count": 6,
   "id": "f0c57946",
   "metadata": {},
   "outputs": [],
   "source": [
    "from area_calculator import *"
   ]
  },
  {
   "cell_type": "code",
   "execution_count": 7,
   "id": "0055b61a",
   "metadata": {},
   "outputs": [
    {
     "data": {
      "text/plain": [
       "4000"
      ]
     },
     "execution_count": 7,
     "metadata": {},
     "output_type": "execute_result"
    }
   ],
   "source": [
    "rectangle(50,80)"
   ]
  },
  {
   "cell_type": "code",
   "execution_count": 8,
   "id": "fb2ff56b",
   "metadata": {},
   "outputs": [
    {
     "data": {
      "text/plain": [
       "1256.6370614359173"
      ]
     },
     "execution_count": 8,
     "metadata": {},
     "output_type": "execute_result"
    }
   ],
   "source": [
    "circle(20)"
   ]
  },
  {
   "cell_type": "code",
   "execution_count": 9,
   "id": "e919289f",
   "metadata": {},
   "outputs": [
    {
     "data": {
      "text/plain": [
       "2000.0"
      ]
     },
     "execution_count": 9,
     "metadata": {},
     "output_type": "execute_result"
    }
   ],
   "source": [
    "triangle(50, 80)"
   ]
  },
  {
   "cell_type": "code",
   "execution_count": null,
   "id": "6f5ea79e",
   "metadata": {},
   "outputs": [],
   "source": []
  }
 ],
 "metadata": {
  "kernelspec": {
   "display_name": "Python 3 (ipykernel)",
   "language": "python",
   "name": "python3"
  },
  "language_info": {
   "codemirror_mode": {
    "name": "ipython",
    "version": 3
   },
   "file_extension": ".py",
   "mimetype": "text/x-python",
   "name": "python",
   "nbconvert_exporter": "python",
   "pygments_lexer": "ipython3",
   "version": "3.10.9"
  }
 },
 "nbformat": 4,
 "nbformat_minor": 5
}
