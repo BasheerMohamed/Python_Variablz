{
 "cells": [
  {
   "cell_type": "code",
   "execution_count": 1,
   "id": "9f50c44f",
   "metadata": {},
   "outputs": [],
   "source": [
    "import re"
   ]
  },
  {
   "cell_type": "code",
   "execution_count": 3,
   "id": "b0ac03f8",
   "metadata": {},
   "outputs": [],
   "source": [
    "sen = '''\n",
    "Hi I am Parthiban, My Phone: 564456656. \n",
    "Hi I am Praveena, My Phone: 89898989\n",
    "'''"
   ]
  },
  {
   "cell_type": "markdown",
   "id": "16d79475",
   "metadata": {},
   "source": [
    "## 1. Find Matching Keywords"
   ]
  },
  {
   "cell_type": "code",
   "execution_count": 7,
   "id": "af5f3b83",
   "metadata": {},
   "outputs": [
    {
     "data": {
      "text/plain": [
       "['Hi', 'Hi']"
      ]
     },
     "execution_count": 7,
     "metadata": {},
     "output_type": "execute_result"
    }
   ],
   "source": [
    "words = re.findall('Hi', sen)\n",
    "words"
   ]
  },
  {
   "cell_type": "code",
   "execution_count": 8,
   "id": "8d7b7a73",
   "metadata": {},
   "outputs": [
    {
     "data": {
      "text/plain": [
       "2"
      ]
     },
     "execution_count": 8,
     "metadata": {},
     "output_type": "execute_result"
    }
   ],
   "source": [
    "len(words)"
   ]
  },
  {
   "cell_type": "markdown",
   "id": "49c85736",
   "metadata": {},
   "source": [
    "## 2 .Search the Position"
   ]
  },
  {
   "cell_type": "code",
   "execution_count": 9,
   "id": "157b33af",
   "metadata": {},
   "outputs": [],
   "source": [
    "sen = 'Hi I am Parthiban. Hit me up by 4565645646'"
   ]
  },
  {
   "cell_type": "code",
   "execution_count": 12,
   "id": "e7b7d138",
   "metadata": {},
   "outputs": [
    {
     "data": {
      "text/plain": [
       "<re.Match object; span=(12, 14), match='hi'>"
      ]
     },
     "execution_count": 12,
     "metadata": {},
     "output_type": "execute_result"
    }
   ],
   "source": [
    "x = re.search('hi', sen)\n",
    "x"
   ]
  },
  {
   "cell_type": "code",
   "execution_count": 14,
   "id": "dd78f3cf",
   "metadata": {},
   "outputs": [
    {
     "data": {
      "text/plain": [
       "12"
      ]
     },
     "execution_count": 14,
     "metadata": {},
     "output_type": "execute_result"
    }
   ],
   "source": [
    "x.start()"
   ]
  },
  {
   "cell_type": "code",
   "execution_count": 15,
   "id": "011bcb8b",
   "metadata": {},
   "outputs": [
    {
     "data": {
      "text/plain": [
       "14"
      ]
     },
     "execution_count": 15,
     "metadata": {},
     "output_type": "execute_result"
    }
   ],
   "source": [
    "x.end()"
   ]
  },
  {
   "cell_type": "markdown",
   "id": "19760f28",
   "metadata": {},
   "source": [
    "## 3. Split the Sentence"
   ]
  },
  {
   "cell_type": "code",
   "execution_count": 22,
   "id": "48932e1e",
   "metadata": {},
   "outputs": [],
   "source": [
    "sen = 'Hi I am, Parthiban, Hit me up by: 4565645646'"
   ]
  },
  {
   "cell_type": "code",
   "execution_count": 23,
   "id": "e74db9f9",
   "metadata": {},
   "outputs": [
    {
     "data": {
      "text/plain": [
       "['Hi I am, Parthiban, Hit me up by', ' 4565645646']"
      ]
     },
     "execution_count": 23,
     "metadata": {},
     "output_type": "execute_result"
    }
   ],
   "source": [
    "X = re.split(':', sen)\n",
    "X"
   ]
  },
  {
   "cell_type": "markdown",
   "id": "730d027e",
   "metadata": {},
   "source": [
    "## 4. Substitute"
   ]
  },
  {
   "cell_type": "code",
   "execution_count": 24,
   "id": "82a18080",
   "metadata": {},
   "outputs": [],
   "source": [
    "sen = 'Hi I am, Parthiban, Hit me up by: 4565645646'"
   ]
  },
  {
   "cell_type": "code",
   "execution_count": 25,
   "id": "d0dd727e",
   "metadata": {},
   "outputs": [
    {
     "data": {
      "text/plain": [
       "'Hi I am, Ragul, Hit me up by: 4565645646'"
      ]
     },
     "execution_count": 25,
     "metadata": {},
     "output_type": "execute_result"
    }
   ],
   "source": [
    "x = re.sub('Parthiban', 'Ragul', sen)\n",
    "x"
   ]
  },
  {
   "cell_type": "markdown",
   "id": "ccc37271",
   "metadata": {},
   "source": [
    "## Literal Chars"
   ]
  },
  {
   "cell_type": "code",
   "execution_count": 26,
   "id": "2eb8b4e2",
   "metadata": {},
   "outputs": [
    {
     "data": {
      "text/plain": [
       "'Hi I am Parthiban, My Phone No: 65456456456'"
      ]
     },
     "execution_count": 26,
     "metadata": {},
     "output_type": "execute_result"
    }
   ],
   "source": [
    "sentence = 'Hi I am Parthiban, My Phone No: 65456456456'\n",
    "sentence"
   ]
  },
  {
   "cell_type": "code",
   "execution_count": 27,
   "id": "31c4d2c8",
   "metadata": {},
   "outputs": [
    {
     "data": {
      "text/plain": [
       "['Hi']"
      ]
     },
     "execution_count": 27,
     "metadata": {},
     "output_type": "execute_result"
    }
   ],
   "source": [
    "re.findall('Hi', sentence)"
   ]
  },
  {
   "cell_type": "code",
   "execution_count": 28,
   "id": "2b29ddd2",
   "metadata": {},
   "outputs": [
    {
     "data": {
      "text/plain": [
       "'Hello I am Parthiban, My Phone No: 65456456456'"
      ]
     },
     "execution_count": 28,
     "metadata": {},
     "output_type": "execute_result"
    }
   ],
   "source": [
    "re.sub('Hi', 'Hello', sentence)"
   ]
  },
  {
   "cell_type": "markdown",
   "id": "f0bd3cfb",
   "metadata": {},
   "source": [
    "## Meta Characters"
   ]
  },
  {
   "cell_type": "markdown",
   "id": "bd05cab6",
   "metadata": {},
   "source": [
    "## 2.1 Set of Chars [ ] "
   ]
  },
  {
   "cell_type": "code",
   "execution_count": 35,
   "id": "44cb0240",
   "metadata": {},
   "outputs": [
    {
     "data": {
      "text/plain": [
       "'Hi I am Parthiban, My Phone No: 9876543210'"
      ]
     },
     "execution_count": 35,
     "metadata": {},
     "output_type": "execute_result"
    }
   ],
   "source": [
    "sentence = 'Hi I am Parthiban, My Phone No: 9876543210'\n",
    "sentence"
   ]
  },
  {
   "cell_type": "code",
   "execution_count": 36,
   "id": "a33af50c",
   "metadata": {},
   "outputs": [
    {
     "data": {
      "text/plain": [
       "['9', '8', '7']"
      ]
     },
     "execution_count": 36,
     "metadata": {},
     "output_type": "execute_result"
    }
   ],
   "source": [
    "re.findall(\"[7-9]\", sentence)"
   ]
  },
  {
   "cell_type": "code",
   "execution_count": 43,
   "id": "3a867d45",
   "metadata": {},
   "outputs": [
    {
     "data": {
      "text/plain": [
       "['a', 'a', 'b', 'a', 'e']"
      ]
     },
     "execution_count": 43,
     "metadata": {},
     "output_type": "execute_result"
    }
   ],
   "source": [
    "re.findall(\"[a-e]\", sentence)"
   ]
  },
  {
   "cell_type": "markdown",
   "id": "6e022e1c",
   "metadata": {},
   "source": [
    "## 2.2 Wildcard or Any Char ."
   ]
  },
  {
   "cell_type": "code",
   "execution_count": 44,
   "id": "46803747",
   "metadata": {},
   "outputs": [
    {
     "data": {
      "text/plain": [
       "'Hi I am Parthiban, My Phone No: 9876543210'"
      ]
     },
     "execution_count": 44,
     "metadata": {},
     "output_type": "execute_result"
    }
   ],
   "source": [
    "sentence"
   ]
  },
  {
   "cell_type": "code",
   "execution_count": 55,
   "id": "f0afaa7f",
   "metadata": {},
   "outputs": [
    {
     "data": {
      "text/plain": [
       "['Phone']"
      ]
     },
     "execution_count": 55,
     "metadata": {},
     "output_type": "execute_result"
    }
   ],
   "source": [
    "re.findall('P...e', sentence)"
   ]
  },
  {
   "cell_type": "markdown",
   "id": "05d2cf65",
   "metadata": {},
   "source": [
    "## 2.3  Start With ^"
   ]
  },
  {
   "cell_type": "code",
   "execution_count": 61,
   "id": "d5f80d8c",
   "metadata": {},
   "outputs": [
    {
     "data": {
      "text/plain": [
       "'Hi I am Parthiban. Hi I am Praveena'"
      ]
     },
     "execution_count": 61,
     "metadata": {},
     "output_type": "execute_result"
    }
   ],
   "source": [
    "sentence = 'Hi I am Parthiban. Hi I am Praveena'\n",
    "sentence"
   ]
  },
  {
   "cell_type": "code",
   "execution_count": 62,
   "id": "3c7a9c38",
   "metadata": {},
   "outputs": [
    {
     "data": {
      "text/plain": [
       "['Hi']"
      ]
     },
     "execution_count": 62,
     "metadata": {},
     "output_type": "execute_result"
    }
   ],
   "source": [
    "re.findall('^Hi', sentence)"
   ]
  },
  {
   "cell_type": "markdown",
   "id": "008a1748",
   "metadata": {},
   "source": [
    "## End With $"
   ]
  },
  {
   "cell_type": "code",
   "execution_count": 63,
   "id": "51d4034f",
   "metadata": {},
   "outputs": [
    {
     "data": {
      "text/plain": [
       "'Hi I am Meena. Hi I am Praveena'"
      ]
     },
     "execution_count": 63,
     "metadata": {},
     "output_type": "execute_result"
    }
   ],
   "source": [
    "sentence = 'Hi I am Meena. Hi I am Praveena'\n",
    "sentence"
   ]
  },
  {
   "cell_type": "code",
   "execution_count": 68,
   "id": "4f552212",
   "metadata": {},
   "outputs": [
    {
     "data": {
      "text/plain": [
       "['veena']"
      ]
     },
     "execution_count": 68,
     "metadata": {},
     "output_type": "execute_result"
    }
   ],
   "source": [
    "re.findall('.eena$', sentence )"
   ]
  },
  {
   "cell_type": "markdown",
   "id": "b4927bec",
   "metadata": {},
   "source": [
    "## Zero or More Occurance *"
   ]
  },
  {
   "cell_type": "code",
   "execution_count": 90,
   "id": "da31e92c",
   "metadata": {},
   "outputs": [
    {
     "data": {
      "text/plain": [
       "'Hi I am Pandi from Pondy, My Phone No: 4456456845'"
      ]
     },
     "execution_count": 90,
     "metadata": {},
     "output_type": "execute_result"
    }
   ],
   "source": [
    "sentence = 'Hi I am Pandi from Pondy, My Phone No: 4456456845'\n",
    "sentence"
   ]
  },
  {
   "cell_type": "code",
   "execution_count": 91,
   "id": "b0cfc778",
   "metadata": {},
   "outputs": [
    {
     "data": {
      "text/plain": [
       "['Pa']"
      ]
     },
     "execution_count": 91,
     "metadata": {},
     "output_type": "execute_result"
    }
   ],
   "source": [
    "re.findall('P.*a', sentence)"
   ]
  },
  {
   "cell_type": "code",
   "execution_count": 92,
   "id": "b7cff5c5",
   "metadata": {},
   "outputs": [
    {
     "data": {
      "text/plain": [
       "'Hi I am Parthiban from Pondy, My Phone No: 4456456845'"
      ]
     },
     "execution_count": 92,
     "metadata": {},
     "output_type": "execute_result"
    }
   ],
   "source": [
    "sentence = 'Hi I am Parthiban from Pondy, My Phone No: 4456456845'\n",
    "sentence"
   ]
  },
  {
   "cell_type": "code",
   "execution_count": 93,
   "id": "08b436cd",
   "metadata": {},
   "outputs": [
    {
     "data": {
      "text/plain": [
       "['Parthiba']"
      ]
     },
     "execution_count": 93,
     "metadata": {},
     "output_type": "execute_result"
    }
   ],
   "source": [
    "re.findall('P.*a', sentence)"
   ]
  },
  {
   "cell_type": "markdown",
   "id": "68f8685f",
   "metadata": {},
   "source": [
    "## One or More Occurance +"
   ]
  },
  {
   "cell_type": "code",
   "execution_count": 2,
   "id": "9b2adfc6",
   "metadata": {},
   "outputs": [],
   "source": [
    "import re"
   ]
  },
  {
   "cell_type": "code",
   "execution_count": 10,
   "id": "ce25f442",
   "metadata": {},
   "outputs": [
    {
     "data": {
      "text/plain": [
       "'Hi I am P-andi, 561612316'"
      ]
     },
     "execution_count": 10,
     "metadata": {},
     "output_type": "execute_result"
    }
   ],
   "source": [
    "sentence = 'Hi I am P-andi, 561612316'\n",
    "sentence"
   ]
  },
  {
   "cell_type": "code",
   "execution_count": 11,
   "id": "bc88c069",
   "metadata": {},
   "outputs": [
    {
     "data": {
      "text/plain": [
       "['P-a']"
      ]
     },
     "execution_count": 11,
     "metadata": {},
     "output_type": "execute_result"
    }
   ],
   "source": [
    "re.findall('P.+a', sentence)"
   ]
  },
  {
   "cell_type": "markdown",
   "id": "0b3ae833",
   "metadata": {},
   "source": [
    "## Zero or One Occurance ?"
   ]
  },
  {
   "cell_type": "code",
   "execution_count": 22,
   "id": "a9c9f7b6",
   "metadata": {},
   "outputs": [
    {
     "data": {
      "text/plain": [
       "'Hi I am Piandi, 561612316'"
      ]
     },
     "execution_count": 22,
     "metadata": {},
     "output_type": "execute_result"
    }
   ],
   "source": [
    "sentence = 'Hi I am Piandi, 561612316'\n",
    "sentence"
   ]
  },
  {
   "cell_type": "code",
   "execution_count": 23,
   "id": "2c4f2202",
   "metadata": {},
   "outputs": [
    {
     "data": {
      "text/plain": [
       "['Pia']"
      ]
     },
     "execution_count": 23,
     "metadata": {},
     "output_type": "execute_result"
    }
   ],
   "source": [
    "re.findall('P.?a', sentence)"
   ]
  },
  {
   "cell_type": "markdown",
   "id": "a4f9fcdb",
   "metadata": {},
   "source": [
    "## Specified Number of Occurance { }"
   ]
  },
  {
   "cell_type": "code",
   "execution_count": 24,
   "id": "f1b9b2b1",
   "metadata": {},
   "outputs": [
    {
     "data": {
      "text/plain": [
       "'Hi I am Pandi, 561612316'"
      ]
     },
     "execution_count": 24,
     "metadata": {},
     "output_type": "execute_result"
    }
   ],
   "source": [
    "sentence = 'Hi I am Pandi, 561612316'\n",
    "sentence"
   ]
  },
  {
   "cell_type": "code",
   "execution_count": 25,
   "id": "0d353f6e",
   "metadata": {},
   "outputs": [
    {
     "data": {
      "text/plain": [
       "['Pandi']"
      ]
     },
     "execution_count": 25,
     "metadata": {},
     "output_type": "execute_result"
    }
   ],
   "source": [
    "re.findall('P.{3}i', sentence)"
   ]
  },
  {
   "cell_type": "markdown",
   "id": "cc01fc6b",
   "metadata": {},
   "source": [
    "## Either | Or"
   ]
  },
  {
   "cell_type": "code",
   "execution_count": 28,
   "id": "09d284fb",
   "metadata": {},
   "outputs": [],
   "source": [
    "sentence = 'Hello I am Parthiban, Hello I am Praveena'"
   ]
  },
  {
   "cell_type": "code",
   "execution_count": 29,
   "id": "87d29ae4",
   "metadata": {},
   "outputs": [
    {
     "data": {
      "text/plain": [
       "['Hello', 'Hello']"
      ]
     },
     "execution_count": 29,
     "metadata": {},
     "output_type": "execute_result"
    }
   ],
   "source": [
    "re.findall('Hi|Hello', sentence)"
   ]
  },
  {
   "cell_type": "markdown",
   "id": "5faa105e",
   "metadata": {},
   "source": [
    "## Special Sequence"
   ]
  },
  {
   "cell_type": "markdown",
   "id": "f8678e60",
   "metadata": {},
   "source": [
    "## \\A - matches only at the start of the string"
   ]
  },
  {
   "cell_type": "code",
   "execution_count": 33,
   "id": "0a9691ea",
   "metadata": {},
   "outputs": [],
   "source": [
    "sen = '''My Name is Billa, \n",
    "My phone no: 9876543210 and my Address is 60/2B, Imperial Plaza, Semmandalam'''"
   ]
  },
  {
   "cell_type": "code",
   "execution_count": 34,
   "id": "07f5aa9e",
   "metadata": {},
   "outputs": [
    {
     "data": {
      "text/plain": [
       "'My Name is Billa, \\nMy phone no: 9876543210 and my Address is 60/2B, Imperial Plaza, Semmandalam'"
      ]
     },
     "execution_count": 34,
     "metadata": {},
     "output_type": "execute_result"
    }
   ],
   "source": [
    "sen"
   ]
  },
  {
   "cell_type": "code",
   "execution_count": 37,
   "id": "d132292c",
   "metadata": {},
   "outputs": [
    {
     "data": {
      "text/plain": [
       "['My']"
      ]
     },
     "execution_count": 37,
     "metadata": {},
     "output_type": "execute_result"
    }
   ],
   "source": [
    "re.findall(r'\\AMy', sen)"
   ]
  },
  {
   "cell_type": "markdown",
   "id": "d66a3c1b",
   "metadata": {},
   "source": [
    "## \\Z - matches only at the end of the string"
   ]
  },
  {
   "cell_type": "code",
   "execution_count": 38,
   "id": "db9bf57c",
   "metadata": {},
   "outputs": [
    {
     "data": {
      "text/plain": [
       "'My Name is Billa, \\nMy phone no: 9876543210 and my Address is 60/2B, Imperial Plaza, Semmandalam'"
      ]
     },
     "execution_count": 38,
     "metadata": {},
     "output_type": "execute_result"
    }
   ],
   "source": [
    "sen"
   ]
  },
  {
   "cell_type": "code",
   "execution_count": 40,
   "id": "d230c47f",
   "metadata": {},
   "outputs": [
    {
     "data": {
      "text/plain": [
       "['dalam']"
      ]
     },
     "execution_count": 40,
     "metadata": {},
     "output_type": "execute_result"
    }
   ],
   "source": [
    "re.findall('dalam\\Z', sen)"
   ]
  },
  {
   "cell_type": "markdown",
   "id": "165501dd",
   "metadata": {},
   "source": [
    "## \\b - matches the empty string - only at the beginning or at the end"
   ]
  },
  {
   "cell_type": "code",
   "execution_count": 46,
   "id": "d82a4002",
   "metadata": {},
   "outputs": [
    {
     "data": {
      "text/plain": [
       "'My Name is Billa, My phoneMy no: 9876543210 and my Address is 60/2B, Imperial Plaza, Semmandalam'"
      ]
     },
     "execution_count": 46,
     "metadata": {},
     "output_type": "execute_result"
    }
   ],
   "source": [
    "sen = '''My Name is Billa, My phoneMy no: 9876543210 and my Address is 60/2B, Imperial Plaza, Semmandalam'''\n",
    "sen"
   ]
  },
  {
   "cell_type": "code",
   "execution_count": 47,
   "id": "4d137ff9",
   "metadata": {},
   "outputs": [
    {
     "data": {
      "text/plain": [
       "['My', 'My']"
      ]
     },
     "execution_count": 47,
     "metadata": {},
     "output_type": "execute_result"
    }
   ],
   "source": [
    "re.findall(r'\\bMy', sen)"
   ]
  },
  {
   "cell_type": "markdown",
   "id": "0f46b389",
   "metadata": {},
   "source": [
    "## \\B - opposite to \\b"
   ]
  },
  {
   "cell_type": "code",
   "execution_count": 48,
   "id": "08fcd140",
   "metadata": {},
   "outputs": [
    {
     "data": {
      "text/plain": [
       "['My']"
      ]
     },
     "execution_count": 48,
     "metadata": {},
     "output_type": "execute_result"
    }
   ],
   "source": [
    "re.findall(r'\\BMy', sen)"
   ]
  },
  {
   "cell_type": "markdown",
   "id": "2e2351c2",
   "metadata": {},
   "source": [
    "## \\d - Find all digits"
   ]
  },
  {
   "cell_type": "code",
   "execution_count": 49,
   "id": "425bda3b",
   "metadata": {},
   "outputs": [
    {
     "data": {
      "text/plain": [
       "'My Name is Billa, My phoneMy no: 9876543210 and my Address is 60/2B, Imperial Plaza, Semmandalam'"
      ]
     },
     "execution_count": 49,
     "metadata": {},
     "output_type": "execute_result"
    }
   ],
   "source": [
    "sen"
   ]
  },
  {
   "cell_type": "code",
   "execution_count": 50,
   "id": "3d312200",
   "metadata": {},
   "outputs": [
    {
     "data": {
      "text/plain": [
       "['9', '8', '7', '6', '5', '4', '3', '2', '1', '0', '6', '0', '2']"
      ]
     },
     "execution_count": 50,
     "metadata": {},
     "output_type": "execute_result"
    }
   ],
   "source": [
    "re.findall(r'\\d', sen)"
   ]
  },
  {
   "cell_type": "markdown",
   "id": "ec3c4a96",
   "metadata": {},
   "source": [
    "## \\D - Opposite"
   ]
  },
  {
   "cell_type": "code",
   "execution_count": 51,
   "id": "f48b24ec",
   "metadata": {},
   "outputs": [
    {
     "data": {
      "text/plain": [
       "['M',\n",
       " 'y',\n",
       " ' ',\n",
       " 'N',\n",
       " 'a',\n",
       " 'm',\n",
       " 'e',\n",
       " ' ',\n",
       " 'i',\n",
       " 's',\n",
       " ' ',\n",
       " 'B',\n",
       " 'i',\n",
       " 'l',\n",
       " 'l',\n",
       " 'a',\n",
       " ',',\n",
       " ' ',\n",
       " 'M',\n",
       " 'y',\n",
       " ' ',\n",
       " 'p',\n",
       " 'h',\n",
       " 'o',\n",
       " 'n',\n",
       " 'e',\n",
       " 'M',\n",
       " 'y',\n",
       " ' ',\n",
       " 'n',\n",
       " 'o',\n",
       " ':',\n",
       " ' ',\n",
       " ' ',\n",
       " 'a',\n",
       " 'n',\n",
       " 'd',\n",
       " ' ',\n",
       " 'm',\n",
       " 'y',\n",
       " ' ',\n",
       " 'A',\n",
       " 'd',\n",
       " 'd',\n",
       " 'r',\n",
       " 'e',\n",
       " 's',\n",
       " 's',\n",
       " ' ',\n",
       " 'i',\n",
       " 's',\n",
       " ' ',\n",
       " '/',\n",
       " 'B',\n",
       " ',',\n",
       " ' ',\n",
       " 'I',\n",
       " 'm',\n",
       " 'p',\n",
       " 'e',\n",
       " 'r',\n",
       " 'i',\n",
       " 'a',\n",
       " 'l',\n",
       " ' ',\n",
       " 'P',\n",
       " 'l',\n",
       " 'a',\n",
       " 'z',\n",
       " 'a',\n",
       " ',',\n",
       " ' ',\n",
       " 'S',\n",
       " 'e',\n",
       " 'm',\n",
       " 'm',\n",
       " 'a',\n",
       " 'n',\n",
       " 'd',\n",
       " 'a',\n",
       " 'l',\n",
       " 'a',\n",
       " 'm']"
      ]
     },
     "execution_count": 51,
     "metadata": {},
     "output_type": "execute_result"
    }
   ],
   "source": [
    "re.findall(r'\\D', sen)"
   ]
  },
  {
   "cell_type": "markdown",
   "id": "107d26b3",
   "metadata": {},
   "source": [
    "## \\s - Find White Space"
   ]
  },
  {
   "cell_type": "code",
   "execution_count": 53,
   "id": "63a839a0",
   "metadata": {},
   "outputs": [
    {
     "data": {
      "text/plain": [
       "'Parthiban Kannan 9954545'"
      ]
     },
     "execution_count": 53,
     "metadata": {},
     "output_type": "execute_result"
    }
   ],
   "source": [
    "sentence = 'Parthiban Kannan 9954545'\n",
    "sentence"
   ]
  },
  {
   "cell_type": "code",
   "execution_count": 55,
   "id": "5a179f0e",
   "metadata": {},
   "outputs": [
    {
     "data": {
      "text/plain": [
       "[' ', ' ']"
      ]
     },
     "execution_count": 55,
     "metadata": {},
     "output_type": "execute_result"
    }
   ],
   "source": [
    "re.findall(r'\\s', sentence)"
   ]
  },
  {
   "cell_type": "code",
   "execution_count": 56,
   "id": "8a78de12",
   "metadata": {},
   "outputs": [
    {
     "data": {
      "text/plain": [
       "['P',\n",
       " 'a',\n",
       " 'r',\n",
       " 't',\n",
       " 'h',\n",
       " 'i',\n",
       " 'b',\n",
       " 'a',\n",
       " 'n',\n",
       " 'K',\n",
       " 'a',\n",
       " 'n',\n",
       " 'n',\n",
       " 'a',\n",
       " 'n',\n",
       " '9',\n",
       " '9',\n",
       " '5',\n",
       " '4',\n",
       " '5',\n",
       " '4',\n",
       " '5']"
      ]
     },
     "execution_count": 56,
     "metadata": {},
     "output_type": "execute_result"
    }
   ],
   "source": [
    "re.findall(r'\\S', sentence)"
   ]
  },
  {
   "cell_type": "markdown",
   "id": "03fad742",
   "metadata": {},
   "source": [
    "## \\w - Find Literal Chars"
   ]
  },
  {
   "cell_type": "code",
   "execution_count": 57,
   "id": "2994c752",
   "metadata": {},
   "outputs": [],
   "source": [
    "sen = 'no:_78968-9 # INR 60$'"
   ]
  },
  {
   "cell_type": "code",
   "execution_count": 58,
   "id": "c2e4758f",
   "metadata": {},
   "outputs": [
    {
     "data": {
      "text/plain": [
       "['n', 'o', '_', '7', '8', '9', '6', '8', '9', 'I', 'N', 'R', '6', '0']"
      ]
     },
     "execution_count": 58,
     "metadata": {},
     "output_type": "execute_result"
    }
   ],
   "source": [
    "re.findall(r'\\w', sen)"
   ]
  },
  {
   "cell_type": "code",
   "execution_count": 59,
   "id": "6397c5fd",
   "metadata": {},
   "outputs": [
    {
     "data": {
      "text/plain": [
       "[':', '-', ' ', '#', ' ', ' ', '$']"
      ]
     },
     "execution_count": 59,
     "metadata": {},
     "output_type": "execute_result"
    }
   ],
   "source": [
    "re.findall(r'\\W', sen)"
   ]
  },
  {
   "cell_type": "code",
   "execution_count": null,
   "id": "4765ea9b",
   "metadata": {},
   "outputs": [],
   "source": []
  }
 ],
 "metadata": {
  "kernelspec": {
   "display_name": "Python 3 (ipykernel)",
   "language": "python",
   "name": "python3"
  },
  "language_info": {
   "codemirror_mode": {
    "name": "ipython",
    "version": 3
   },
   "file_extension": ".py",
   "mimetype": "text/x-python",
   "name": "python",
   "nbconvert_exporter": "python",
   "pygments_lexer": "ipython3",
   "version": "3.10.9"
  }
 },
 "nbformat": 4,
 "nbformat_minor": 5
}
