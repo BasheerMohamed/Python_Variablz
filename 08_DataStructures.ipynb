{
 "cells": [
  {
   "cell_type": "code",
   "execution_count": 3,
   "id": "7f413978",
   "metadata": {},
   "outputs": [
    {
     "name": "stdout",
     "output_type": "stream",
     "text": [
      "Enter Your Favorite Music Director: Ilayaraja\n"
     ]
    }
   ],
   "source": [
    "music_director = input('Enter Your Favorite Music Director: ')"
   ]
  },
  {
   "cell_type": "code",
   "execution_count": 4,
   "id": "a7ecd6e9",
   "metadata": {},
   "outputs": [
    {
     "data": {
      "text/plain": [
       "'Ilayaraja'"
      ]
     },
     "execution_count": 4,
     "metadata": {},
     "output_type": "execute_result"
    }
   ],
   "source": [
    "music_director"
   ]
  },
  {
   "cell_type": "markdown",
   "id": "c6127f1b",
   "metadata": {},
   "source": [
    "## 1. List [ ]"
   ]
  },
  {
   "cell_type": "code",
   "execution_count": 5,
   "id": "e1c5d1bb",
   "metadata": {},
   "outputs": [],
   "source": [
    "# create a new list"
   ]
  },
  {
   "cell_type": "code",
   "execution_count": 6,
   "id": "33fb24d1",
   "metadata": {},
   "outputs": [],
   "source": [
    "music_directors = []"
   ]
  },
  {
   "cell_type": "code",
   "execution_count": 7,
   "id": "76e21f6f",
   "metadata": {},
   "outputs": [
    {
     "data": {
      "text/plain": [
       "list"
      ]
     },
     "execution_count": 7,
     "metadata": {},
     "output_type": "execute_result"
    }
   ],
   "source": [
    "type(music_directors)"
   ]
  },
  {
   "cell_type": "code",
   "execution_count": 8,
   "id": "6e756ac9",
   "metadata": {},
   "outputs": [],
   "source": [
    "# Add items to the List"
   ]
  },
  {
   "cell_type": "code",
   "execution_count": 9,
   "id": "54650063",
   "metadata": {},
   "outputs": [],
   "source": [
    "music_directors.append('ARR')"
   ]
  },
  {
   "cell_type": "code",
   "execution_count": 10,
   "id": "1c97df4a",
   "metadata": {},
   "outputs": [
    {
     "data": {
      "text/plain": [
       "['ARR']"
      ]
     },
     "execution_count": 10,
     "metadata": {},
     "output_type": "execute_result"
    }
   ],
   "source": [
    "music_directors"
   ]
  },
  {
   "cell_type": "code",
   "execution_count": 11,
   "id": "1c0d5e21",
   "metadata": {},
   "outputs": [],
   "source": [
    "music_directors.append('Ilayaraja')"
   ]
  },
  {
   "cell_type": "code",
   "execution_count": 12,
   "id": "210f0903",
   "metadata": {},
   "outputs": [
    {
     "data": {
      "text/plain": [
       "['ARR', 'Ilayaraja']"
      ]
     },
     "execution_count": 12,
     "metadata": {},
     "output_type": "execute_result"
    }
   ],
   "source": [
    "music_directors"
   ]
  },
  {
   "cell_type": "code",
   "execution_count": 13,
   "id": "6d1cc1c8",
   "metadata": {},
   "outputs": [
    {
     "name": "stdout",
     "output_type": "stream",
     "text": [
      "Enter Your Favorite Music Director: Aniruth\n"
     ]
    }
   ],
   "source": [
    "music_director = input('Enter Your Favorite Music Director: ')"
   ]
  },
  {
   "cell_type": "code",
   "execution_count": 14,
   "id": "67d40780",
   "metadata": {},
   "outputs": [],
   "source": [
    "music_directors.append(music_director)"
   ]
  },
  {
   "cell_type": "code",
   "execution_count": 15,
   "id": "ad513706",
   "metadata": {},
   "outputs": [
    {
     "data": {
      "text/plain": [
       "['ARR', 'Ilayaraja', 'Aniruth']"
      ]
     },
     "execution_count": 15,
     "metadata": {},
     "output_type": "execute_result"
    }
   ],
   "source": [
    "music_directors"
   ]
  },
  {
   "cell_type": "code",
   "execution_count": 18,
   "id": "91103c39",
   "metadata": {},
   "outputs": [],
   "source": [
    "music_directors.append('Deva')"
   ]
  },
  {
   "cell_type": "code",
   "execution_count": 19,
   "id": "ef3a55a9",
   "metadata": {},
   "outputs": [
    {
     "data": {
      "text/plain": [
       "['ARR', 'Ilayaraja', 'Aniruth', 'Deva', 'Deva']"
      ]
     },
     "execution_count": 19,
     "metadata": {},
     "output_type": "execute_result"
    }
   ],
   "source": [
    "music_directors"
   ]
  },
  {
   "cell_type": "code",
   "execution_count": 20,
   "id": "36dcb5bc",
   "metadata": {},
   "outputs": [],
   "source": [
    "# Remove an Item from the List"
   ]
  },
  {
   "cell_type": "code",
   "execution_count": 21,
   "id": "5665a8e1",
   "metadata": {},
   "outputs": [],
   "source": [
    "music_directors.remove('Deva')"
   ]
  },
  {
   "cell_type": "code",
   "execution_count": 22,
   "id": "a5d0c4a8",
   "metadata": {},
   "outputs": [
    {
     "data": {
      "text/plain": [
       "['ARR', 'Ilayaraja', 'Aniruth', 'Deva']"
      ]
     },
     "execution_count": 22,
     "metadata": {},
     "output_type": "execute_result"
    }
   ],
   "source": [
    "music_directors"
   ]
  },
  {
   "cell_type": "code",
   "execution_count": 25,
   "id": "6dee63a2",
   "metadata": {},
   "outputs": [],
   "source": [
    "# Clear all items from the list"
   ]
  },
  {
   "cell_type": "code",
   "execution_count": 26,
   "id": "3e4a999b",
   "metadata": {},
   "outputs": [],
   "source": [
    "music_directors.clear()"
   ]
  },
  {
   "cell_type": "code",
   "execution_count": 27,
   "id": "9405951d",
   "metadata": {},
   "outputs": [
    {
     "data": {
      "text/plain": [
       "[]"
      ]
     },
     "execution_count": 27,
     "metadata": {},
     "output_type": "execute_result"
    }
   ],
   "source": [
    "music_directors"
   ]
  },
  {
   "cell_type": "code",
   "execution_count": 28,
   "id": "f33c8f7c",
   "metadata": {},
   "outputs": [],
   "source": [
    "# Manually Add All Items"
   ]
  },
  {
   "cell_type": "code",
   "execution_count": 29,
   "id": "001c2296",
   "metadata": {},
   "outputs": [],
   "source": [
    "music_directors = ['ARR', 'Deva', 'Santhosh', 'Aniruth', 'Yuvan']"
   ]
  },
  {
   "cell_type": "code",
   "execution_count": 30,
   "id": "4553dc1c",
   "metadata": {},
   "outputs": [
    {
     "data": {
      "text/plain": [
       "['ARR', 'Deva', 'Santhosh', 'Aniruth', 'Yuvan']"
      ]
     },
     "execution_count": 30,
     "metadata": {},
     "output_type": "execute_result"
    }
   ],
   "source": [
    "music_directors"
   ]
  },
  {
   "cell_type": "code",
   "execution_count": 31,
   "id": "13d520a2",
   "metadata": {},
   "outputs": [],
   "source": [
    "# Reset List"
   ]
  },
  {
   "cell_type": "code",
   "execution_count": 32,
   "id": "c1fd7dad",
   "metadata": {},
   "outputs": [],
   "source": [
    "music_directors = []"
   ]
  },
  {
   "cell_type": "code",
   "execution_count": 37,
   "id": "0c9622e3",
   "metadata": {},
   "outputs": [],
   "source": [
    "# Total Items in the List"
   ]
  },
  {
   "cell_type": "code",
   "execution_count": 38,
   "id": "4a2f8700",
   "metadata": {},
   "outputs": [],
   "source": [
    "music_directors = ['ARR', 'Deva', 'Aniruth', 'Yuvan']"
   ]
  },
  {
   "cell_type": "code",
   "execution_count": 39,
   "id": "c6285aa5",
   "metadata": {},
   "outputs": [
    {
     "data": {
      "text/plain": [
       "4"
      ]
     },
     "execution_count": 39,
     "metadata": {},
     "output_type": "execute_result"
    }
   ],
   "source": [
    "len(music_directors)"
   ]
  },
  {
   "cell_type": "code",
   "execution_count": 40,
   "id": "e3fe2677",
   "metadata": {},
   "outputs": [],
   "source": [
    "# Indexing"
   ]
  },
  {
   "cell_type": "code",
   "execution_count": 41,
   "id": "11490663",
   "metadata": {},
   "outputs": [
    {
     "data": {
      "text/plain": [
       "['ARR', 'Deva', 'Aniruth', 'Yuvan']"
      ]
     },
     "execution_count": 41,
     "metadata": {},
     "output_type": "execute_result"
    }
   ],
   "source": [
    "music_directors"
   ]
  },
  {
   "cell_type": "code",
   "execution_count": 46,
   "id": "22c71efa",
   "metadata": {},
   "outputs": [
    {
     "data": {
      "text/plain": [
       "'Yuvan'"
      ]
     },
     "execution_count": 46,
     "metadata": {},
     "output_type": "execute_result"
    }
   ],
   "source": [
    "# Accessing the items\n",
    "music_directors[3]"
   ]
  },
  {
   "cell_type": "markdown",
   "id": "321bbe22",
   "metadata": {},
   "source": [
    "# Mutable"
   ]
  },
  {
   "cell_type": "code",
   "execution_count": 56,
   "id": "bee57b7a",
   "metadata": {},
   "outputs": [],
   "source": [
    "music_directors[3] = 'TM Soundarajan'"
   ]
  },
  {
   "cell_type": "code",
   "execution_count": 57,
   "id": "e329070b",
   "metadata": {},
   "outputs": [
    {
     "data": {
      "text/plain": [
       "['ARR', 'Deva', 'Aniruth', 'TM Soundarajan', 'ARR']"
      ]
     },
     "execution_count": 57,
     "metadata": {},
     "output_type": "execute_result"
    }
   ],
   "source": [
    "music_directors"
   ]
  },
  {
   "cell_type": "code",
   "execution_count": null,
   "id": "cf610cbb",
   "metadata": {},
   "outputs": [],
   "source": []
  },
  {
   "cell_type": "code",
   "execution_count": 47,
   "id": "3f990fb7",
   "metadata": {},
   "outputs": [],
   "source": [
    "## Count Items"
   ]
  },
  {
   "cell_type": "code",
   "execution_count": 48,
   "id": "8b66ccdc",
   "metadata": {},
   "outputs": [],
   "source": [
    "music_directors = ['ARR', 'Deva', 'Aniruth', 'Yuvan', 'ARR']"
   ]
  },
  {
   "cell_type": "code",
   "execution_count": 50,
   "id": "58348d9c",
   "metadata": {},
   "outputs": [
    {
     "data": {
      "text/plain": [
       "2"
      ]
     },
     "execution_count": 50,
     "metadata": {},
     "output_type": "execute_result"
    }
   ],
   "source": [
    "music_directors.count('ARR')"
   ]
  },
  {
   "cell_type": "code",
   "execution_count": 52,
   "id": "9d622350",
   "metadata": {},
   "outputs": [],
   "source": [
    "fruits = ['Apple', 'Orange', 'Banana'] \n",
    "vegs = ['Onion', 'Tomatot', 'Brinjal']"
   ]
  },
  {
   "cell_type": "code",
   "execution_count": 54,
   "id": "d68b7e91",
   "metadata": {},
   "outputs": [
    {
     "data": {
      "text/plain": [
       "['Apple', 'Orange', 'Banana', 'Onion', 'Tomatot', 'Brinjal']"
      ]
     },
     "execution_count": 54,
     "metadata": {},
     "output_type": "execute_result"
    }
   ],
   "source": [
    "total_items = fruits + vegs\n",
    "total_items"
   ]
  },
  {
   "cell_type": "markdown",
   "id": "8279c089",
   "metadata": {},
   "source": [
    "## Tuple ( )"
   ]
  },
  {
   "cell_type": "code",
   "execution_count": 58,
   "id": "cbbb4fee",
   "metadata": {},
   "outputs": [],
   "source": [
    "items = ()"
   ]
  },
  {
   "cell_type": "code",
   "execution_count": 59,
   "id": "170fc353",
   "metadata": {},
   "outputs": [
    {
     "data": {
      "text/plain": [
       "tuple"
      ]
     },
     "execution_count": 59,
     "metadata": {},
     "output_type": "execute_result"
    }
   ],
   "source": [
    "type(items)"
   ]
  },
  {
   "cell_type": "code",
   "execution_count": 60,
   "id": "df88c642",
   "metadata": {},
   "outputs": [],
   "source": [
    "weekdays = ('Mon', 'Tue', 'Wed', 'Thu', 'Fri')"
   ]
  },
  {
   "cell_type": "code",
   "execution_count": 61,
   "id": "a8887c7c",
   "metadata": {},
   "outputs": [
    {
     "data": {
      "text/plain": [
       "('Mon', 'Tue', 'Wed', 'Thu', 'Fri')"
      ]
     },
     "execution_count": 61,
     "metadata": {},
     "output_type": "execute_result"
    }
   ],
   "source": [
    "weekdays"
   ]
  },
  {
   "cell_type": "code",
   "execution_count": 63,
   "id": "5c7e1476",
   "metadata": {},
   "outputs": [
    {
     "data": {
      "text/plain": [
       "'Fri'"
      ]
     },
     "execution_count": 63,
     "metadata": {},
     "output_type": "execute_result"
    }
   ],
   "source": [
    "weekdays[4]"
   ]
  },
  {
   "cell_type": "markdown",
   "id": "e6140c3c",
   "metadata": {},
   "source": [
    "## Dictionary"
   ]
  },
  {
   "cell_type": "code",
   "execution_count": 5,
   "id": "30cee71b",
   "metadata": {},
   "outputs": [],
   "source": [
    "parthiban = ['parthiban', 'Cuddalore', 33, 88, 173]\n",
    "ragul = ['ragul', 'Pollachi', 34,89,160]"
   ]
  },
  {
   "cell_type": "code",
   "execution_count": 6,
   "id": "960afb3d",
   "metadata": {},
   "outputs": [
    {
     "data": {
      "text/plain": [
       "33"
      ]
     },
     "execution_count": 6,
     "metadata": {},
     "output_type": "execute_result"
    }
   ],
   "source": [
    "parthiban[2]"
   ]
  },
  {
   "cell_type": "code",
   "execution_count": 7,
   "id": "e0d84668",
   "metadata": {},
   "outputs": [
    {
     "data": {
      "text/plain": [
       "34"
      ]
     },
     "execution_count": 7,
     "metadata": {},
     "output_type": "execute_result"
    }
   ],
   "source": [
    "ragul[2]"
   ]
  },
  {
   "cell_type": "code",
   "execution_count": 15,
   "id": "97c8b814",
   "metadata": {},
   "outputs": [],
   "source": [
    "parthiban = {\n",
    "    'name':'parthiban',\n",
    "    'city':'cuddalore',\n",
    "    'age':33,\n",
    "    'dob':'11/03/1990',\n",
    "    'weight': 88,\n",
    "    'height': 173\n",
    "}"
   ]
  },
  {
   "cell_type": "code",
   "execution_count": 19,
   "id": "77a15b77",
   "metadata": {},
   "outputs": [],
   "source": [
    "ragul = {\n",
    "    'name':'ragul',\n",
    "    'city':'pollachi',\n",
    "    'age':34,\n",
    "    'dob':'16/06/1989',\n",
    "    'weight': 95,\n",
    "    'height': 163\n",
    "}"
   ]
  },
  {
   "cell_type": "code",
   "execution_count": 16,
   "id": "9077d252",
   "metadata": {},
   "outputs": [
    {
     "data": {
      "text/plain": [
       "dict"
      ]
     },
     "execution_count": 16,
     "metadata": {},
     "output_type": "execute_result"
    }
   ],
   "source": [
    "type(parthiban)"
   ]
  },
  {
   "cell_type": "code",
   "execution_count": 17,
   "id": "4fc00547",
   "metadata": {},
   "outputs": [
    {
     "data": {
      "text/plain": [
       "'cuddalore'"
      ]
     },
     "execution_count": 17,
     "metadata": {},
     "output_type": "execute_result"
    }
   ],
   "source": [
    "parthiban['city']"
   ]
  },
  {
   "cell_type": "code",
   "execution_count": 18,
   "id": "cb707c7a",
   "metadata": {},
   "outputs": [
    {
     "data": {
      "text/plain": [
       "88"
      ]
     },
     "execution_count": 18,
     "metadata": {},
     "output_type": "execute_result"
    }
   ],
   "source": [
    "parthiban['weight']"
   ]
  },
  {
   "cell_type": "code",
   "execution_count": 20,
   "id": "cf000456",
   "metadata": {},
   "outputs": [],
   "source": [
    "users = [parthiban, ragul]"
   ]
  },
  {
   "cell_type": "code",
   "execution_count": 21,
   "id": "ffca1ff9",
   "metadata": {},
   "outputs": [
    {
     "data": {
      "text/plain": [
       "[{'name': 'parthiban',\n",
       "  'city': 'cuddalore',\n",
       "  'age': 33,\n",
       "  'dob': '11/03/1990',\n",
       "  'weight': 88,\n",
       "  'height': 173},\n",
       " {'name': 'ragul',\n",
       "  'city': 'pollachi',\n",
       "  'age': 34,\n",
       "  'dob': '16/06/1989',\n",
       "  'weight': 95,\n",
       "  'height': 163}]"
      ]
     },
     "execution_count": 21,
     "metadata": {},
     "output_type": "execute_result"
    }
   ],
   "source": [
    "users"
   ]
  },
  {
   "cell_type": "code",
   "execution_count": 23,
   "id": "88b41d82",
   "metadata": {},
   "outputs": [
    {
     "data": {
      "text/plain": [
       "95"
      ]
     },
     "execution_count": 23,
     "metadata": {},
     "output_type": "execute_result"
    }
   ],
   "source": [
    "users[1]['weight']"
   ]
  },
  {
   "cell_type": "code",
   "execution_count": null,
   "id": "16f5ac05",
   "metadata": {},
   "outputs": [],
   "source": []
  }
 ],
 "metadata": {
  "kernelspec": {
   "display_name": "Python 3 (ipykernel)",
   "language": "python",
   "name": "python3"
  },
  "language_info": {
   "codemirror_mode": {
    "name": "ipython",
    "version": 3
   },
   "file_extension": ".py",
   "mimetype": "text/x-python",
   "name": "python",
   "nbconvert_exporter": "python",
   "pygments_lexer": "ipython3",
   "version": "3.10.9"
  }
 },
 "nbformat": 4,
 "nbformat_minor": 5
}
