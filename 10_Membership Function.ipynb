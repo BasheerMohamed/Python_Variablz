{
 "cells": [
  {
   "cell_type": "code",
   "execution_count": 1,
   "id": "19e30e6b",
   "metadata": {},
   "outputs": [
    {
     "data": {
      "text/plain": [
       "['Coca Cola', 'Pepsi', 'Fanta', 'Sprite', 'Maaza', 'Mirinda']"
      ]
     },
     "execution_count": 1,
     "metadata": {},
     "output_type": "execute_result"
    }
   ],
   "source": [
    "beverages = ['Coca Cola', 'Pepsi', 'Fanta', 'Sprite', 'Maaza', 'Mirinda']\n",
    "beverages"
   ]
  },
  {
   "cell_type": "code",
   "execution_count": 4,
   "id": "e755f251",
   "metadata": {},
   "outputs": [
    {
     "name": "stdout",
     "output_type": "stream",
     "text": [
      "Bovanto is Not Available\n"
     ]
    }
   ],
   "source": [
    "if 'Bovanto' in beverages:\n",
    "    print('Bovanto is Available')\n",
    "else:\n",
    "    print('Bovanto is Not Available')"
   ]
  },
  {
   "cell_type": "code",
   "execution_count": 5,
   "id": "2e3feb15",
   "metadata": {},
   "outputs": [
    {
     "name": "stdout",
     "output_type": "stream",
     "text": [
      "Bovanto is not Available\n"
     ]
    }
   ],
   "source": [
    "if 'Bovanto' not in beverages:\n",
    "    print('Bovanto is not Available')\n",
    "else:\n",
    "    print('Bovanto is Available')"
   ]
  },
  {
   "cell_type": "code",
   "execution_count": null,
   "id": "ad9c0de4",
   "metadata": {},
   "outputs": [],
   "source": []
  }
 ],
 "metadata": {
  "kernelspec": {
   "display_name": "Python 3 (ipykernel)",
   "language": "python",
   "name": "python3"
  },
  "language_info": {
   "codemirror_mode": {
    "name": "ipython",
    "version": 3
   },
   "file_extension": ".py",
   "mimetype": "text/x-python",
   "name": "python",
   "nbconvert_exporter": "python",
   "pygments_lexer": "ipython3",
   "version": "3.10.9"
  }
 },
 "nbformat": 4,
 "nbformat_minor": 5
}
