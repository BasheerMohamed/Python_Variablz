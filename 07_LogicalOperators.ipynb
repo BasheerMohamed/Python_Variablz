{
 "cells": [
  {
   "cell_type": "markdown",
   "id": "3f7e6ded",
   "metadata": {},
   "source": [
    "## Logical AND"
   ]
  },
  {
   "cell_type": "code",
   "execution_count": 29,
   "id": "4b95095e",
   "metadata": {},
   "outputs": [
    {
     "name": "stdout",
     "output_type": "stream",
     "text": [
      "Do you like the Idly? yes\n",
      "Do you like the Chutney? yes\n",
      "Do you like the Samabar? no\n"
     ]
    }
   ],
   "source": [
    "idly = input('Do you like the Idly? ')\n",
    "chutney = input('Do you like the Chutney? ')\n",
    "sambar = input('Do you like the Samabar? ')"
   ]
  },
  {
   "cell_type": "code",
   "execution_count": 30,
   "id": "860c573a",
   "metadata": {},
   "outputs": [
    {
     "name": "stdout",
     "output_type": "stream",
     "text": [
      "Breakfast was bad\n"
     ]
    }
   ],
   "source": [
    "if idly.lower() == 'yes' and chutney == 'yes' and sambar == 'yes':\n",
    "    print('Breakfast was good')\n",
    "else:\n",
    "    print('Breakfast was bad')"
   ]
  },
  {
   "cell_type": "markdown",
   "id": "832d7716",
   "metadata": {},
   "source": [
    "## Logical OR"
   ]
  },
  {
   "cell_type": "code",
   "execution_count": 35,
   "id": "699f4408",
   "metadata": {},
   "outputs": [
    {
     "name": "stdout",
     "output_type": "stream",
     "text": [
      "Have you won on lottery1? hfkldjfkld\n",
      "Have you won on lottery2? hfkdljdjfkl\n"
     ]
    }
   ],
   "source": [
    "lottery1 = input('Have you won on lottery1? ')\n",
    "lottery2 = input('Have you won on lottery2? ')"
   ]
  },
  {
   "cell_type": "code",
   "execution_count": 36,
   "id": "480d39ce",
   "metadata": {},
   "outputs": [
    {
     "name": "stdout",
     "output_type": "stream",
     "text": [
      "You're Sad\n"
     ]
    }
   ],
   "source": [
    "if lottery1.lower() == 'yes' or lottery2.lower() == 'yes':\n",
    "    print(\"You're Happy!\")\n",
    "else:\n",
    "    print(\"You're Sad\")"
   ]
  },
  {
   "cell_type": "markdown",
   "id": "7f695ddd",
   "metadata": {},
   "source": [
    "## Combinations"
   ]
  },
  {
   "cell_type": "code",
   "execution_count": 42,
   "id": "c5ae345a",
   "metadata": {},
   "outputs": [
    {
     "name": "stdout",
     "output_type": "stream",
     "text": [
      "Have you got Seat in MIT? Yes\n",
      "Have you got Data Science Degree? No\n",
      "Are you selected in Google? Yes\n"
     ]
    }
   ],
   "source": [
    "hstudy = input('Have you got Seat in MIT? ')\n",
    "hdeg = input('Have you got Data Science Degree? ')\n",
    "hjob = input('Are you selected in Google? ')"
   ]
  },
  {
   "cell_type": "code",
   "execution_count": 43,
   "id": "9cba9717",
   "metadata": {},
   "outputs": [
    {
     "name": "stdout",
     "output_type": "stream",
     "text": [
      "You are Happy\n"
     ]
    }
   ],
   "source": [
    "if (hstudy.lower() == 'yes' and hdeg == 'yes') or hjob.lower() == 'yes':\n",
    "    print('You are Happy')\n",
    "else:\n",
    "    print('Youre Sad')"
   ]
  },
  {
   "cell_type": "code",
   "execution_count": 44,
   "id": "9863dc89",
   "metadata": {},
   "outputs": [],
   "source": [
    "None"
   ]
  },
  {
   "cell_type": "code",
   "execution_count": 63,
   "id": "8124dc81",
   "metadata": {},
   "outputs": [],
   "source": [
    "Chutney = 5"
   ]
  },
  {
   "cell_type": "code",
   "execution_count": 64,
   "id": "a417f399",
   "metadata": {},
   "outputs": [
    {
     "name": "stdout",
     "output_type": "stream",
     "text": [
      "No\n"
     ]
    }
   ],
   "source": [
    "if not Chutney:\n",
    "    print('Yes')\n",
    "else:\n",
    "    print('No')"
   ]
  },
  {
   "cell_type": "code",
   "execution_count": null,
   "id": "68df0ebf",
   "metadata": {},
   "outputs": [],
   "source": []
  }
 ],
 "metadata": {
  "kernelspec": {
   "display_name": "Python 3 (ipykernel)",
   "language": "python",
   "name": "python3"
  },
  "language_info": {
   "codemirror_mode": {
    "name": "ipython",
    "version": 3
   },
   "file_extension": ".py",
   "mimetype": "text/x-python",
   "name": "python",
   "nbconvert_exporter": "python",
   "pygments_lexer": "ipython3",
   "version": "3.10.9"
  }
 },
 "nbformat": 4,
 "nbformat_minor": 5
}
