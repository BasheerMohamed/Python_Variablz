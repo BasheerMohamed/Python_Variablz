{
 "cells": [
  {
   "cell_type": "markdown",
   "id": "70a2bb11",
   "metadata": {},
   "source": [
    "## Conditional Clauses\n",
    "\n",
    "1. Single Condition (If clause)\n",
    "2. Double Condition (If..Else Clause)\n",
    "3. Many Conditions (If..Elif..Else Clause)"
   ]
  },
  {
   "cell_type": "markdown",
   "id": "8840d11f",
   "metadata": {},
   "source": [
    "## 1. Single Condition"
   ]
  },
  {
   "cell_type": "code",
   "execution_count": 17,
   "id": "333f1942",
   "metadata": {},
   "outputs": [
    {
     "name": "stdout",
     "output_type": "stream",
     "text": [
      "Do you agree for our Terms and Cond? no\n"
     ]
    }
   ],
   "source": [
    "terms = input('Do you agree for our Terms and Cond? ')"
   ]
  },
  {
   "cell_type": "code",
   "execution_count": 18,
   "id": "a36b9f34",
   "metadata": {},
   "outputs": [
    {
     "data": {
      "text/plain": [
       "'no'"
      ]
     },
     "execution_count": 18,
     "metadata": {},
     "output_type": "execute_result"
    }
   ],
   "source": [
    "terms"
   ]
  },
  {
   "cell_type": "code",
   "execution_count": 19,
   "id": "7651fff6",
   "metadata": {},
   "outputs": [
    {
     "data": {
      "text/plain": [
       "False"
      ]
     },
     "execution_count": 19,
     "metadata": {},
     "output_type": "execute_result"
    }
   ],
   "source": [
    "terms.lower() == 'yes'"
   ]
  },
  {
   "cell_type": "code",
   "execution_count": 22,
   "id": "55cd5fcc",
   "metadata": {},
   "outputs": [
    {
     "name": "stdout",
     "output_type": "stream",
     "text": [
      "Check\n",
      "Program Completed\n"
     ]
    }
   ],
   "source": [
    "if terms.lower() == 'yes':\n",
    "    print('Enable Signup Button')\n",
    "    \n",
    "print('Check')\n",
    "print('Program Completed')"
   ]
  },
  {
   "cell_type": "code",
   "execution_count": 24,
   "id": "3fa44516",
   "metadata": {},
   "outputs": [],
   "source": [
    "if terms.lower() == 'yes':\n",
    "    pass"
   ]
  },
  {
   "cell_type": "markdown",
   "id": "0f78f9cb",
   "metadata": {},
   "source": [
    "## Double Conditions (If... Else)"
   ]
  },
  {
   "cell_type": "code",
   "execution_count": 39,
   "id": "329e88bd",
   "metadata": {},
   "outputs": [
    {
     "name": "stdout",
     "output_type": "stream",
     "text": [
      "Enter Your Age: 30\n"
     ]
    }
   ],
   "source": [
    "age = input('Enter Your Age: ')"
   ]
  },
  {
   "cell_type": "code",
   "execution_count": 40,
   "id": "08981dab",
   "metadata": {},
   "outputs": [],
   "source": [
    "age = int(age)"
   ]
  },
  {
   "cell_type": "code",
   "execution_count": 41,
   "id": "4b227806",
   "metadata": {},
   "outputs": [
    {
     "data": {
      "text/plain": [
       "False"
      ]
     },
     "execution_count": 41,
     "metadata": {},
     "output_type": "execute_result"
    }
   ],
   "source": [
    "age < 10 "
   ]
  },
  {
   "cell_type": "code",
   "execution_count": 48,
   "id": "c21fc2bd",
   "metadata": {},
   "outputs": [
    {
     "name": "stdout",
     "output_type": "stream",
     "text": [
      "Recommend Horror Movies\n"
     ]
    }
   ],
   "source": [
    "if age<10:\n",
    "    print('Recommend Cartoon Movies')\n",
    "else:\n",
    "    print('Recommend Horror Movies')"
   ]
  },
  {
   "cell_type": "code",
   "execution_count": 49,
   "id": "9f28b444",
   "metadata": {},
   "outputs": [
    {
     "name": "stdout",
     "output_type": "stream",
     "text": [
      "Recommend Horror Movies\n"
     ]
    }
   ],
   "source": [
    "print('Recommend Cartoon Movies') if age<10 else print('Recommend Horror Movies')"
   ]
  },
  {
   "cell_type": "markdown",
   "id": "c050998f",
   "metadata": {},
   "source": [
    "## Many Conditions"
   ]
  },
  {
   "cell_type": "code",
   "execution_count": 66,
   "id": "8db510e1",
   "metadata": {},
   "outputs": [
    {
     "name": "stdout",
     "output_type": "stream",
     "text": [
      "Enter the State: Telungana\n"
     ]
    }
   ],
   "source": [
    "state = input('Enter the State: ')"
   ]
  },
  {
   "cell_type": "code",
   "execution_count": 68,
   "id": "76a5937c",
   "metadata": {},
   "outputs": [
    {
     "name": "stdout",
     "output_type": "stream",
     "text": [
      "Recommend Telugu Movies\n"
     ]
    }
   ],
   "source": [
    "if state.lower() == 'tamilnadu':\n",
    "    print('Recommend Tamil Movies')\n",
    "elif state.lower() == 'karnataka':\n",
    "    print('Recommend Kannada Movies')\n",
    "elif state.lower() == 'telungana':\n",
    "    print('Recommend Telugu Movies')\n",
    "else:\n",
    "    print('Recommend English Movies')"
   ]
  },
  {
   "cell_type": "code",
   "execution_count": 69,
   "id": "14ebc65d",
   "metadata": {},
   "outputs": [
    {
     "name": "stdout",
     "output_type": "stream",
     "text": [
      "Recommend Telugu Movies\n"
     ]
    }
   ],
   "source": [
    "match state.lower():\n",
    "    case 'tamilnadu':\n",
    "        print('Recommend Tamil Movies')\n",
    "    case 'karnataka':\n",
    "        print('Recommend Kannada Movies')\n",
    "    case 'telungana':\n",
    "        print('Recommend Telugu Movies')\n",
    "    case _:\n",
    "        print('Recommend English Movies')"
   ]
  },
  {
   "cell_type": "code",
   "execution_count": null,
   "id": "39a97d65",
   "metadata": {},
   "outputs": [],
   "source": []
  }
 ],
 "metadata": {
  "kernelspec": {
   "display_name": "Python 3 (ipykernel)",
   "language": "python",
   "name": "python3"
  },
  "language_info": {
   "codemirror_mode": {
    "name": "ipython",
    "version": 3
   },
   "file_extension": ".py",
   "mimetype": "text/x-python",
   "name": "python",
   "nbconvert_exporter": "python",
   "pygments_lexer": "ipython3",
   "version": "3.10.9"
  }
 },
 "nbformat": 4,
 "nbformat_minor": 5
}
