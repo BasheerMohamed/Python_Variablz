{
 "cells": [
  {
   "cell_type": "markdown",
   "id": "779e7709",
   "metadata": {},
   "source": [
    "## Class"
   ]
  },
  {
   "cell_type": "code",
   "execution_count": 17,
   "id": "42f8f3d9",
   "metadata": {},
   "outputs": [],
   "source": [
    "class StandardAccount():\n",
    "    \n",
    "    # Class Variables | Class Properties | Class Attributes\n",
    "    welcome = 'Welcome to Amazon Account'\n",
    "    delivery_duration = 7\n",
    "    \n",
    "    \n",
    "    # Constructor - A special kind of function to collect mandatory information\n",
    "    def __init__(self, name, mobile, mail):\n",
    "        \n",
    "        # Object Variables\n",
    "        self.name = name\n",
    "        self.mobile = mobile\n",
    "        self.mail = mail\n",
    "        self.credit_cards = []\n",
    "        self.my_orders = []\n",
    "        \n",
    "        print(f'Hi {self.name} Your Account Created')\n",
    "        \n",
    "    # Methods\n",
    "    def add_card(self, number):\n",
    "        self.credit_cards.append(number)\n",
    "        print(f'''\n",
    "        Hi {self.name}! Your card {number} successfully Added.\n",
    "        ''')\n",
    "        \n",
    "    def shopping(self, item):\n",
    "        self.my_orders.append(item)\n",
    "        print(f'''\n",
    "        Hi {self.name}! Your order {item} will be delivered in {self.delivery_duration} days.\n",
    "        ''')\n",
    "        \n",
    "    "
   ]
  },
  {
   "cell_type": "code",
   "execution_count": 44,
   "id": "32f7b30c",
   "metadata": {},
   "outputs": [],
   "source": [
    "class PrimeAccount(StandardAccount):\n",
    "    delivery_duration = 1\n",
    "    \n",
    "    def __init__(self, name, mobile, mail, subscription):\n",
    "        StandardAccount.__init__(self, name, mobile, mail)\n",
    "        self.subscription = subscription\n",
    "    \n",
    "    def PrimeVideo(self):\n",
    "        print(f'Your Prime Video Enabled for {self.subscription} years')\n",
    "    "
   ]
  },
  {
   "cell_type": "code",
   "execution_count": null,
   "id": "bb8eb9f8",
   "metadata": {},
   "outputs": [],
   "source": []
  },
  {
   "cell_type": "code",
   "execution_count": 28,
   "id": "e02b2590",
   "metadata": {},
   "outputs": [
    {
     "data": {
      "text/plain": [
       "7"
      ]
     },
     "execution_count": 28,
     "metadata": {},
     "output_type": "execute_result"
    }
   ],
   "source": [
    "StandardAccount."
   ]
  },
  {
   "cell_type": "code",
   "execution_count": 30,
   "id": "4adc8349",
   "metadata": {},
   "outputs": [
    {
     "data": {
      "text/plain": [
       "1"
      ]
     },
     "execution_count": 30,
     "metadata": {},
     "output_type": "execute_result"
    }
   ],
   "source": [
    "PrimeAccount."
   ]
  },
  {
   "cell_type": "code",
   "execution_count": null,
   "id": "d160ebf8",
   "metadata": {},
   "outputs": [],
   "source": []
  },
  {
   "cell_type": "code",
   "execution_count": null,
   "id": "0b703a85",
   "metadata": {},
   "outputs": [],
   "source": []
  },
  {
   "cell_type": "markdown",
   "id": "7816fb67",
   "metadata": {},
   "source": [
    "## Object"
   ]
  },
  {
   "cell_type": "code",
   "execution_count": 48,
   "id": "b88e7bd2",
   "metadata": {},
   "outputs": [
    {
     "name": "stdout",
     "output_type": "stream",
     "text": [
      "Hi Parthiban Your Account Created\n"
     ]
    }
   ],
   "source": [
    "parthiban = StandardAccount('Parthiban', 5264564156, 'parthi@gmail.com')"
   ]
  },
  {
   "cell_type": "code",
   "execution_count": 49,
   "id": "106d4b4c",
   "metadata": {},
   "outputs": [
    {
     "data": {
      "text/plain": [
       "'Parthiban'"
      ]
     },
     "execution_count": 49,
     "metadata": {},
     "output_type": "execute_result"
    }
   ],
   "source": [
    "parthiban.name"
   ]
  },
  {
   "cell_type": "code",
   "execution_count": 50,
   "id": "c452274c",
   "metadata": {},
   "outputs": [
    {
     "name": "stdout",
     "output_type": "stream",
     "text": [
      "\n",
      "        Hi Parthiban! Your card 7489456456 successfully Added.\n",
      "        \n"
     ]
    }
   ],
   "source": [
    "parthiban.add_card(7489456456)"
   ]
  },
  {
   "cell_type": "code",
   "execution_count": 51,
   "id": "006e2f6e",
   "metadata": {},
   "outputs": [
    {
     "data": {
      "text/plain": [
       "[7489456456]"
      ]
     },
     "execution_count": 51,
     "metadata": {},
     "output_type": "execute_result"
    }
   ],
   "source": [
    "parthiban.credit_cards"
   ]
  },
  {
   "cell_type": "code",
   "execution_count": 52,
   "id": "9a2e481a",
   "metadata": {},
   "outputs": [
    {
     "name": "stdout",
     "output_type": "stream",
     "text": [
      "\n",
      "        Hi Parthiban! Your order iPhone will be delivered in 7 days.\n",
      "        \n"
     ]
    }
   ],
   "source": [
    "parthiban.shopping('iPhone')"
   ]
  },
  {
   "cell_type": "code",
   "execution_count": 53,
   "id": "3d83f25a",
   "metadata": {},
   "outputs": [
    {
     "data": {
      "text/plain": [
       "['iPhone']"
      ]
     },
     "execution_count": 53,
     "metadata": {},
     "output_type": "execute_result"
    }
   ],
   "source": [
    "parthiban.my_orders"
   ]
  },
  {
   "cell_type": "code",
   "execution_count": null,
   "id": "11419684",
   "metadata": {},
   "outputs": [],
   "source": []
  },
  {
   "cell_type": "code",
   "execution_count": 55,
   "id": "b8ad200a",
   "metadata": {},
   "outputs": [
    {
     "name": "stdout",
     "output_type": "stream",
     "text": [
      "Hi Ragul Your Account Created\n"
     ]
    }
   ],
   "source": [
    "ragul = PrimeAccount('Ragul', 56489456, 'ragul@gmail.com', 3)"
   ]
  },
  {
   "cell_type": "code",
   "execution_count": 56,
   "id": "e9f9acf4",
   "metadata": {},
   "outputs": [
    {
     "data": {
      "text/plain": [
       "'Ragul'"
      ]
     },
     "execution_count": 56,
     "metadata": {},
     "output_type": "execute_result"
    }
   ],
   "source": [
    "ragul.name"
   ]
  },
  {
   "cell_type": "code",
   "execution_count": 57,
   "id": "63ad7815",
   "metadata": {},
   "outputs": [
    {
     "name": "stdout",
     "output_type": "stream",
     "text": [
      "\n",
      "        Hi Ragul! Your card 969696 successfully Added.\n",
      "        \n"
     ]
    }
   ],
   "source": [
    "ragul.add_card(969696)"
   ]
  },
  {
   "cell_type": "code",
   "execution_count": 58,
   "id": "14ac5a2d",
   "metadata": {},
   "outputs": [
    {
     "data": {
      "text/plain": [
       "[969696]"
      ]
     },
     "execution_count": 58,
     "metadata": {},
     "output_type": "execute_result"
    }
   ],
   "source": [
    "ragul.credit_cards"
   ]
  },
  {
   "cell_type": "code",
   "execution_count": 59,
   "id": "4eadf8b3",
   "metadata": {},
   "outputs": [
    {
     "name": "stdout",
     "output_type": "stream",
     "text": [
      "\n",
      "        Hi Ragul! Your order MacBook will be delivered in 1 days.\n",
      "        \n"
     ]
    }
   ],
   "source": [
    "ragul.shopping('MacBook')"
   ]
  },
  {
   "cell_type": "code",
   "execution_count": 60,
   "id": "31c6e684",
   "metadata": {},
   "outputs": [
    {
     "name": "stdout",
     "output_type": "stream",
     "text": [
      "\n",
      "        Hi Ragul! Your order Samsung Galaxy Note will be delivered in 1 days.\n",
      "        \n"
     ]
    }
   ],
   "source": [
    "ragul.shopping('Samsung Galaxy Note')"
   ]
  },
  {
   "cell_type": "code",
   "execution_count": 61,
   "id": "7c1e001b",
   "metadata": {},
   "outputs": [
    {
     "data": {
      "text/plain": [
       "['MacBook', 'Samsung Galaxy Note']"
      ]
     },
     "execution_count": 61,
     "metadata": {},
     "output_type": "execute_result"
    }
   ],
   "source": [
    "ragul.my_orders"
   ]
  },
  {
   "cell_type": "code",
   "execution_count": 63,
   "id": "c6b59596",
   "metadata": {},
   "outputs": [
    {
     "name": "stdout",
     "output_type": "stream",
     "text": [
      "Your Prime Video Enabled for 3 years\n"
     ]
    }
   ],
   "source": [
    "ragul.PrimeVideo()"
   ]
  },
  {
   "cell_type": "markdown",
   "id": "f329b8b0",
   "metadata": {},
   "source": [
    "## Multiple Inheritance"
   ]
  },
  {
   "cell_type": "code",
   "execution_count": 71,
   "id": "0f5903a3",
   "metadata": {},
   "outputs": [],
   "source": [
    "class backend():\n",
    "    \n",
    "    def __init__(self):\n",
    "        print('Backend Created')\n",
    "        \n",
    "    def python(self):\n",
    "        print('Python Added')"
   ]
  },
  {
   "cell_type": "code",
   "execution_count": 73,
   "id": "2132455e",
   "metadata": {},
   "outputs": [
    {
     "name": "stdout",
     "output_type": "stream",
     "text": [
      "Backend Created\n"
     ]
    }
   ],
   "source": [
    "b = backend()"
   ]
  },
  {
   "cell_type": "code",
   "execution_count": 76,
   "id": "72166274",
   "metadata": {},
   "outputs": [],
   "source": [
    "class frontend():\n",
    "    \n",
    "    def __init__(self):\n",
    "        print('Front End Created')\n",
    "        \n",
    "    def pyQt(self):\n",
    "        print('PyQT Added')"
   ]
  },
  {
   "cell_type": "code",
   "execution_count": 90,
   "id": "39097757",
   "metadata": {},
   "outputs": [],
   "source": [
    "class AppDev(backend, frontend):\n",
    "    \n",
    "    def __init__(self):\n",
    "        backend.__init__(self)\n",
    "        frontend.__init__(self)\n",
    "        print('App Dev Created')\n",
    "        \n",
    "    def sql(self):\n",
    "        print('SQL Added')"
   ]
  },
  {
   "cell_type": "code",
   "execution_count": 91,
   "id": "69840533",
   "metadata": {},
   "outputs": [
    {
     "name": "stdout",
     "output_type": "stream",
     "text": [
      "Backend Created\n"
     ]
    }
   ],
   "source": [
    "b = backend()"
   ]
  },
  {
   "cell_type": "code",
   "execution_count": 92,
   "id": "85a512ea",
   "metadata": {},
   "outputs": [
    {
     "name": "stdout",
     "output_type": "stream",
     "text": [
      "Python Added\n"
     ]
    }
   ],
   "source": [
    "b.python()"
   ]
  },
  {
   "cell_type": "code",
   "execution_count": 93,
   "id": "e712a073",
   "metadata": {},
   "outputs": [
    {
     "name": "stdout",
     "output_type": "stream",
     "text": [
      "Front End Created\n"
     ]
    }
   ],
   "source": [
    "f = frontend()"
   ]
  },
  {
   "cell_type": "code",
   "execution_count": 94,
   "id": "0897277b",
   "metadata": {},
   "outputs": [
    {
     "name": "stdout",
     "output_type": "stream",
     "text": [
      "PyQT Added\n"
     ]
    }
   ],
   "source": [
    "f.pyQt()"
   ]
  },
  {
   "cell_type": "code",
   "execution_count": 95,
   "id": "0fd83404",
   "metadata": {},
   "outputs": [
    {
     "name": "stdout",
     "output_type": "stream",
     "text": [
      "Backend Created\n",
      "Front End Created\n",
      "App Dev Created\n"
     ]
    }
   ],
   "source": [
    "a = AppDev()"
   ]
  },
  {
   "cell_type": "markdown",
   "id": "7f19f994",
   "metadata": {},
   "source": [
    "## Hierarchical Inheritance"
   ]
  },
  {
   "cell_type": "code",
   "execution_count": 109,
   "id": "fa7128be",
   "metadata": {},
   "outputs": [],
   "source": [
    "class Python():\n",
    "    \n",
    "    py_duration = 30\n",
    "    \n",
    "    def __init__(self):\n",
    "        print('Python Created')"
   ]
  },
  {
   "cell_type": "code",
   "execution_count": 110,
   "id": "e48cbd9a",
   "metadata": {},
   "outputs": [],
   "source": [
    "class AppDev(Python):\n",
    "    \n",
    "    app_duration = 45\n",
    "    \n",
    "    def __init__(self):\n",
    "        print('App Dev Created')"
   ]
  },
  {
   "cell_type": "code",
   "execution_count": 111,
   "id": "b5ba9176",
   "metadata": {},
   "outputs": [],
   "source": [
    "class DataSci(Python):\n",
    "    \n",
    "    dsc_duration = 90\n",
    "    \n",
    "    def __init__(self):\n",
    "        print('Data Science Created')"
   ]
  },
  {
   "cell_type": "code",
   "execution_count": 112,
   "id": "121676ea",
   "metadata": {},
   "outputs": [
    {
     "name": "stdout",
     "output_type": "stream",
     "text": [
      "Python Created\n"
     ]
    }
   ],
   "source": [
    "p = Python()"
   ]
  },
  {
   "cell_type": "code",
   "execution_count": 115,
   "id": "e78d25a3",
   "metadata": {},
   "outputs": [
    {
     "data": {
      "text/plain": [
       "30"
      ]
     },
     "execution_count": 115,
     "metadata": {},
     "output_type": "execute_result"
    }
   ],
   "source": [
    "p.py_duration"
   ]
  },
  {
   "cell_type": "code",
   "execution_count": 113,
   "id": "1a20a03b",
   "metadata": {},
   "outputs": [
    {
     "name": "stdout",
     "output_type": "stream",
     "text": [
      "App Dev Created\n"
     ]
    }
   ],
   "source": [
    "a = AppDev()"
   ]
  },
  {
   "cell_type": "code",
   "execution_count": 116,
   "id": "6723714a",
   "metadata": {},
   "outputs": [
    {
     "data": {
      "text/plain": [
       "45"
      ]
     },
     "execution_count": 116,
     "metadata": {},
     "output_type": "execute_result"
    }
   ],
   "source": [
    "a.app_duration"
   ]
  },
  {
   "cell_type": "code",
   "execution_count": 117,
   "id": "8344e53d",
   "metadata": {},
   "outputs": [
    {
     "name": "stdout",
     "output_type": "stream",
     "text": [
      "Data Science Created\n"
     ]
    }
   ],
   "source": [
    "d = DataSci()"
   ]
  },
  {
   "cell_type": "code",
   "execution_count": 118,
   "id": "6208a5dc",
   "metadata": {},
   "outputs": [
    {
     "data": {
      "text/plain": [
       "90"
      ]
     },
     "execution_count": 118,
     "metadata": {},
     "output_type": "execute_result"
    }
   ],
   "source": [
    "d.dsc_duration"
   ]
  },
  {
   "cell_type": "markdown",
   "id": "f8efe16c",
   "metadata": {},
   "source": [
    "## Multi-Level Inheritance"
   ]
  },
  {
   "cell_type": "code",
   "execution_count": 119,
   "id": "17256ff2",
   "metadata": {},
   "outputs": [],
   "source": [
    "class python():\n",
    "    \n",
    "    py_duration = 30"
   ]
  },
  {
   "cell_type": "code",
   "execution_count": 120,
   "id": "1866cfdb",
   "metadata": {},
   "outputs": [],
   "source": [
    "class pandas(python):\n",
    "    \n",
    "    pa_duration = 60"
   ]
  },
  {
   "cell_type": "code",
   "execution_count": 121,
   "id": "5da1b3c2",
   "metadata": {},
   "outputs": [],
   "source": [
    "class data_sci(pandas):\n",
    "    \n",
    "    ds_duration= 90"
   ]
  },
  {
   "cell_type": "code",
   "execution_count": 122,
   "id": "f9dd18dc",
   "metadata": {},
   "outputs": [],
   "source": [
    "py = python()\n",
    "pa = pandas()\n",
    "ds = data_sci()"
   ]
  },
  {
   "cell_type": "code",
   "execution_count": 123,
   "id": "ccbafd9b",
   "metadata": {},
   "outputs": [
    {
     "data": {
      "text/plain": [
       "30"
      ]
     },
     "execution_count": 123,
     "metadata": {},
     "output_type": "execute_result"
    }
   ],
   "source": [
    "py.py_duration"
   ]
  },
  {
   "cell_type": "code",
   "execution_count": 124,
   "id": "37e7f4bd",
   "metadata": {},
   "outputs": [
    {
     "data": {
      "text/plain": [
       "(30, 60)"
      ]
     },
     "execution_count": 124,
     "metadata": {},
     "output_type": "execute_result"
    }
   ],
   "source": [
    "pa.py_duration, pa.pa_duration"
   ]
  },
  {
   "cell_type": "code",
   "execution_count": 125,
   "id": "31a210b4",
   "metadata": {},
   "outputs": [
    {
     "data": {
      "text/plain": [
       "90"
      ]
     },
     "execution_count": 125,
     "metadata": {},
     "output_type": "execute_result"
    }
   ],
   "source": [
    "ds.ds_duration"
   ]
  },
  {
   "cell_type": "markdown",
   "id": "8d6ed9aa",
   "metadata": {},
   "source": [
    "## Hybrid Inheritance"
   ]
  },
  {
   "cell_type": "code",
   "execution_count": null,
   "id": "ae786554",
   "metadata": {},
   "outputs": [],
   "source": []
  }
 ],
 "metadata": {
  "kernelspec": {
   "display_name": "Python 3 (ipykernel)",
   "language": "python",
   "name": "python3"
  },
  "language_info": {
   "codemirror_mode": {
    "name": "ipython",
    "version": 3
   },
   "file_extension": ".py",
   "mimetype": "text/x-python",
   "name": "python",
   "nbconvert_exporter": "python",
   "pygments_lexer": "ipython3",
   "version": "3.10.9"
  }
 },
 "nbformat": 4,
 "nbformat_minor": 5
}
