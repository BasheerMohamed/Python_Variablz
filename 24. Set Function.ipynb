{
 "cells": [
  {
   "cell_type": "code",
   "execution_count": 1,
   "id": "16cdc66c",
   "metadata": {},
   "outputs": [],
   "source": [
    "tamil = ['Parthiban', 'Ram', 'Rocky', 'Ragul', 'Abi']\n",
    "english = ['Rocky', 'Parthiban', 'Pavithra', 'Revathy']\n",
    "maths = ['Renuka', 'Mari', 'Ragul', 'Parthiban']\n",
    "science = ['Sabeer', 'Parthiban', 'Karthi', 'Ram Charan']\n",
    "social = ['Saranya', 'Elavarasi', 'Ranjani', 'Mari', 'Parthiban']"
   ]
  },
  {
   "cell_type": "code",
   "execution_count": 4,
   "id": "fb68ebb8",
   "metadata": {},
   "outputs": [],
   "source": [
    "setTamil = set(tamil)\n",
    "setEnglish = set(english)\n",
    "setMaths = set(maths)\n",
    "setScience = set(science)\n",
    "setSocial = set(social)"
   ]
  },
  {
   "cell_type": "markdown",
   "id": "6d4c630b",
   "metadata": {},
   "source": [
    "## Union"
   ]
  },
  {
   "cell_type": "code",
   "execution_count": 7,
   "id": "175e69c6",
   "metadata": {},
   "outputs": [
    {
     "data": {
      "text/plain": [
       "{'Abi',\n",
       " 'Elavarasi',\n",
       " 'Karthi',\n",
       " 'Mari',\n",
       " 'Parthiban',\n",
       " 'Pavithra',\n",
       " 'Ragul',\n",
       " 'Ram',\n",
       " 'Ram Charan',\n",
       " 'Ranjani',\n",
       " 'Renuka',\n",
       " 'Revathy',\n",
       " 'Rocky',\n",
       " 'Sabeer',\n",
       " 'Saranya'}"
      ]
     },
     "execution_count": 7,
     "metadata": {},
     "output_type": "execute_result"
    }
   ],
   "source": [
    "setTamil.union(setEnglish, setMaths, setScience, setSocial)"
   ]
  },
  {
   "cell_type": "markdown",
   "id": "f85663bd",
   "metadata": {},
   "source": [
    "## Intersections"
   ]
  },
  {
   "cell_type": "code",
   "execution_count": 9,
   "id": "5d08e290",
   "metadata": {},
   "outputs": [
    {
     "data": {
      "text/plain": [
       "{'Parthiban'}"
      ]
     },
     "execution_count": 9,
     "metadata": {},
     "output_type": "execute_result"
    }
   ],
   "source": [
    "setTamil.intersection(setEnglish, setMaths, setScience, setSocial)"
   ]
  },
  {
   "cell_type": "markdown",
   "id": "87086d48",
   "metadata": {},
   "source": [
    "## Difference"
   ]
  },
  {
   "cell_type": "code",
   "execution_count": 10,
   "id": "0cd9658c",
   "metadata": {},
   "outputs": [
    {
     "data": {
      "text/plain": [
       "{'Abi', 'Ragul', 'Ram'}"
      ]
     },
     "execution_count": 10,
     "metadata": {},
     "output_type": "execute_result"
    }
   ],
   "source": [
    "setTamil.difference(setEnglish)"
   ]
  },
  {
   "cell_type": "code",
   "execution_count": null,
   "id": "41484eba",
   "metadata": {},
   "outputs": [],
   "source": []
  }
 ],
 "metadata": {
  "kernelspec": {
   "display_name": "Python 3 (ipykernel)",
   "language": "python",
   "name": "python3"
  },
  "language_info": {
   "codemirror_mode": {
    "name": "ipython",
    "version": 3
   },
   "file_extension": ".py",
   "mimetype": "text/x-python",
   "name": "python",
   "nbconvert_exporter": "python",
   "pygments_lexer": "ipython3",
   "version": "3.10.9"
  }
 },
 "nbformat": 4,
 "nbformat_minor": 5
}
